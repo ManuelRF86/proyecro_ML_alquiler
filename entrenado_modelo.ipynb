{
 "cells": [
  {
   "cell_type": "markdown",
   "metadata": {},
   "source": [
    "### Entrenamiento del modelo"
   ]
  },
  {
   "cell_type": "markdown",
   "metadata": {},
   "source": [
    "Librerías datos y gráficos"
   ]
  },
  {
   "cell_type": "code",
   "execution_count": 2,
   "metadata": {},
   "outputs": [],
   "source": [
    "import pandas as pd\n",
    "import seaborn as sns\n",
    "import matplotlib.pyplot as plt\n",
    "import numpy as np"
   ]
  },
  {
   "cell_type": "markdown",
   "metadata": {},
   "source": [
    "Preprocesado y modelado"
   ]
  },
  {
   "cell_type": "code",
   "execution_count": 29,
   "metadata": {},
   "outputs": [],
   "source": [
    "from sklearn.ensemble import RandomForestRegressor\n",
    "from sklearn.svm import SVR\n",
    "from sklearn.ensemble import GradientBoostingRegressor\n",
    "from sklearn.neighbors import KNeighborsRegressor"
   ]
  },
  {
   "cell_type": "code",
   "execution_count": 30,
   "metadata": {},
   "outputs": [],
   "source": [
    "from sklearn.feature_selection import SelectKBest\n",
    "from sklearn.pipeline import Pipeline\n",
    "from sklearn.model_selection import GridSearchCV\n",
    "from sklearn.preprocessing import StandardScaler\n",
    "from sklearn.metrics import mean_absolute_error, mean_absolute_percentage_error, mean_squared_error, r2_score"
   ]
  },
  {
   "cell_type": "code",
   "execution_count": 4,
   "metadata": {},
   "outputs": [],
   "source": [
    "pd.set_option(\"max_colwidth\", 50)\n",
    "pd.set_option('display.max_columns', 500)\n",
    "pd.set_option('display.max_rows', 500)\n",
    "\n",
    "import warnings\n",
    "warnings.filterwarnings(\"ignore\")"
   ]
  },
  {
   "cell_type": "code",
   "execution_count": 45,
   "metadata": {},
   "outputs": [],
   "source": [
    "'''Creo las X_train e y_train a partir de df_train.\n",
    "   Creo las X_test e y_test a partir de df_test.\n",
    "   Ambas previamente importado\n",
    "   Por ultimo, creo las X e y con todo el train y test,\n",
    "   para entrenar mimodelo final y generalizar mejor ante nuevos input.'''\n",
    "\n",
    "df_train = pd.read_csv('data/df_train.csv')\n",
    "df_test = pd.read_csv('data/df_test.csv')\n",
    "df_num = pd.read_csv('data/df_num.csv')\n",
    "\n",
    "X_train = df_train.drop(['price'],axis=1)\n",
    "y_train = df_train['price']\n",
    "X_test = df_test.drop(['price'],axis=1)\n",
    "y_test = df_test['price']\n",
    "X = df_num.drop(['price'],axis=1)\n",
    "y = df_num['price']"
   ]
  },
  {
   "cell_type": "markdown",
   "metadata": {},
   "source": [
    "#### Primero intento buscar el regresor mas adecuado para predecir la target"
   ]
  },
  {
   "cell_type": "code",
   "execution_count": null,
   "metadata": {},
   "outputs": [],
   "source": [
    "from sklearn.ensemble import RandomForestRegressor\n",
    "from sklearn.svm import SVR\n",
    "from sklearn.ensemble import GradientBoostingRegressor\n",
    "from sklearn.neighbors import KNeighborsRegressor"
   ]
  },
  {
   "cell_type": "code",
   "execution_count": 32,
   "metadata": {},
   "outputs": [
    {
     "data": {
      "text/html": [
       "<style>#sk-container-id-3 {color: black;}#sk-container-id-3 pre{padding: 0;}#sk-container-id-3 div.sk-toggleable {background-color: white;}#sk-container-id-3 label.sk-toggleable__label {cursor: pointer;display: block;width: 100%;margin-bottom: 0;padding: 0.3em;box-sizing: border-box;text-align: center;}#sk-container-id-3 label.sk-toggleable__label-arrow:before {content: \"▸\";float: left;margin-right: 0.25em;color: #696969;}#sk-container-id-3 label.sk-toggleable__label-arrow:hover:before {color: black;}#sk-container-id-3 div.sk-estimator:hover label.sk-toggleable__label-arrow:before {color: black;}#sk-container-id-3 div.sk-toggleable__content {max-height: 0;max-width: 0;overflow: hidden;text-align: left;background-color: #f0f8ff;}#sk-container-id-3 div.sk-toggleable__content pre {margin: 0.2em;color: black;border-radius: 0.25em;background-color: #f0f8ff;}#sk-container-id-3 input.sk-toggleable__control:checked~div.sk-toggleable__content {max-height: 200px;max-width: 100%;overflow: auto;}#sk-container-id-3 input.sk-toggleable__control:checked~label.sk-toggleable__label-arrow:before {content: \"▾\";}#sk-container-id-3 div.sk-estimator input.sk-toggleable__control:checked~label.sk-toggleable__label {background-color: #d4ebff;}#sk-container-id-3 div.sk-label input.sk-toggleable__control:checked~label.sk-toggleable__label {background-color: #d4ebff;}#sk-container-id-3 input.sk-hidden--visually {border: 0;clip: rect(1px 1px 1px 1px);clip: rect(1px, 1px, 1px, 1px);height: 1px;margin: -1px;overflow: hidden;padding: 0;position: absolute;width: 1px;}#sk-container-id-3 div.sk-estimator {font-family: monospace;background-color: #f0f8ff;border: 1px dotted black;border-radius: 0.25em;box-sizing: border-box;margin-bottom: 0.5em;}#sk-container-id-3 div.sk-estimator:hover {background-color: #d4ebff;}#sk-container-id-3 div.sk-parallel-item::after {content: \"\";width: 100%;border-bottom: 1px solid gray;flex-grow: 1;}#sk-container-id-3 div.sk-label:hover label.sk-toggleable__label {background-color: #d4ebff;}#sk-container-id-3 div.sk-serial::before {content: \"\";position: absolute;border-left: 1px solid gray;box-sizing: border-box;top: 0;bottom: 0;left: 50%;z-index: 0;}#sk-container-id-3 div.sk-serial {display: flex;flex-direction: column;align-items: center;background-color: white;padding-right: 0.2em;padding-left: 0.2em;position: relative;}#sk-container-id-3 div.sk-item {position: relative;z-index: 1;}#sk-container-id-3 div.sk-parallel {display: flex;align-items: stretch;justify-content: center;background-color: white;position: relative;}#sk-container-id-3 div.sk-item::before, #sk-container-id-3 div.sk-parallel-item::before {content: \"\";position: absolute;border-left: 1px solid gray;box-sizing: border-box;top: 0;bottom: 0;left: 50%;z-index: -1;}#sk-container-id-3 div.sk-parallel-item {display: flex;flex-direction: column;z-index: 1;position: relative;background-color: white;}#sk-container-id-3 div.sk-parallel-item:first-child::after {align-self: flex-end;width: 50%;}#sk-container-id-3 div.sk-parallel-item:last-child::after {align-self: flex-start;width: 50%;}#sk-container-id-3 div.sk-parallel-item:only-child::after {width: 0;}#sk-container-id-3 div.sk-dashed-wrapped {border: 1px dashed gray;margin: 0 0.4em 0.5em 0.4em;box-sizing: border-box;padding-bottom: 0.4em;background-color: white;}#sk-container-id-3 div.sk-label label {font-family: monospace;font-weight: bold;display: inline-block;line-height: 1.2em;}#sk-container-id-3 div.sk-label-container {text-align: center;}#sk-container-id-3 div.sk-container {/* jupyter's `normalize.less` sets `[hidden] { display: none; }` but bootstrap.min.css set `[hidden] { display: none !important; }` so we also need the `!important` here to be able to override the default hidden behavior on the sphinx rendered scikit-learn.org. See: https://github.com/scikit-learn/scikit-learn/issues/21755 */display: inline-block !important;position: relative;}#sk-container-id-3 div.sk-text-repr-fallback {display: none;}</style><div id=\"sk-container-id-3\" class=\"sk-top-container\"><div class=\"sk-text-repr-fallback\"><pre>GridSearchCV(cv=5,\n",
       "             estimator=Pipeline(steps=[(&#x27;scaler&#x27;, StandardScaler()),\n",
       "                                       (&#x27;selectkbest&#x27;, SelectKBest(k=5)),\n",
       "                                       (&#x27;regresor&#x27;, RandomForestRegressor())]),\n",
       "             param_grid=[{&#x27;regresor&#x27;: [KNeighborsRegressor()],\n",
       "                          &#x27;regresor__n_neighbors&#x27;: [5, 10, 15, 20, 30, 50, 60,\n",
       "                                                    75, 100, 150]},\n",
       "                         {&#x27;regresor&#x27;: [RandomForestRegressor()],\n",
       "                          &#x27;regresor__criterion&#x27;: [&#x27;squared_error&#x27;,\n",
       "                                                  &#x27;absolute_error&#x27;,\n",
       "                                                  &#x27;fried...\n",
       "                         {&#x27;regresor&#x27;: [SVR()],\n",
       "                          &#x27;regresor__C&#x27;: [0.001, 0.1, 0.5, 1, 5, 10, 100],\n",
       "                          &#x27;regresor__kernel&#x27;: [&#x27;linear&#x27;, &#x27;poly&#x27;, &#x27;rbf&#x27;,\n",
       "                                               &#x27;sigmoid&#x27;, &#x27;precomputed&#x27;]},\n",
       "                         {&#x27;regresor&#x27;: [GradientBoostingRegressor()],\n",
       "                          &#x27;regresor__criterion&#x27;: [&#x27;friedman_mse&#x27;,\n",
       "                                                  &#x27;squared_error&#x27;],\n",
       "                          &#x27;regresor__learning_rate&#x27;: [0.1, 0.2, 0.3, 0.5, 0.7,\n",
       "                                                      0.9],\n",
       "                          &#x27;regresor__max_depth&#x27;: [1, 2, 3, 4],\n",
       "                          &#x27;regresor__n_estimators&#x27;: [50, 100, 150, 200, 250]}])</pre><b>In a Jupyter environment, please rerun this cell to show the HTML representation or trust the notebook. <br />On GitHub, the HTML representation is unable to render, please try loading this page with nbviewer.org.</b></div><div class=\"sk-container\" hidden><div class=\"sk-item sk-dashed-wrapped\"><div class=\"sk-label-container\"><div class=\"sk-label sk-toggleable\"><input class=\"sk-toggleable__control sk-hidden--visually\" id=\"sk-estimator-id-11\" type=\"checkbox\" ><label for=\"sk-estimator-id-11\" class=\"sk-toggleable__label sk-toggleable__label-arrow\">GridSearchCV</label><div class=\"sk-toggleable__content\"><pre>GridSearchCV(cv=5,\n",
       "             estimator=Pipeline(steps=[(&#x27;scaler&#x27;, StandardScaler()),\n",
       "                                       (&#x27;selectkbest&#x27;, SelectKBest(k=5)),\n",
       "                                       (&#x27;regresor&#x27;, RandomForestRegressor())]),\n",
       "             param_grid=[{&#x27;regresor&#x27;: [KNeighborsRegressor()],\n",
       "                          &#x27;regresor__n_neighbors&#x27;: [5, 10, 15, 20, 30, 50, 60,\n",
       "                                                    75, 100, 150]},\n",
       "                         {&#x27;regresor&#x27;: [RandomForestRegressor()],\n",
       "                          &#x27;regresor__criterion&#x27;: [&#x27;squared_error&#x27;,\n",
       "                                                  &#x27;absolute_error&#x27;,\n",
       "                                                  &#x27;fried...\n",
       "                         {&#x27;regresor&#x27;: [SVR()],\n",
       "                          &#x27;regresor__C&#x27;: [0.001, 0.1, 0.5, 1, 5, 10, 100],\n",
       "                          &#x27;regresor__kernel&#x27;: [&#x27;linear&#x27;, &#x27;poly&#x27;, &#x27;rbf&#x27;,\n",
       "                                               &#x27;sigmoid&#x27;, &#x27;precomputed&#x27;]},\n",
       "                         {&#x27;regresor&#x27;: [GradientBoostingRegressor()],\n",
       "                          &#x27;regresor__criterion&#x27;: [&#x27;friedman_mse&#x27;,\n",
       "                                                  &#x27;squared_error&#x27;],\n",
       "                          &#x27;regresor__learning_rate&#x27;: [0.1, 0.2, 0.3, 0.5, 0.7,\n",
       "                                                      0.9],\n",
       "                          &#x27;regresor__max_depth&#x27;: [1, 2, 3, 4],\n",
       "                          &#x27;regresor__n_estimators&#x27;: [50, 100, 150, 200, 250]}])</pre></div></div></div><div class=\"sk-parallel\"><div class=\"sk-parallel-item\"><div class=\"sk-item\"><div class=\"sk-label-container\"><div class=\"sk-label sk-toggleable\"><input class=\"sk-toggleable__control sk-hidden--visually\" id=\"sk-estimator-id-12\" type=\"checkbox\" ><label for=\"sk-estimator-id-12\" class=\"sk-toggleable__label sk-toggleable__label-arrow\">estimator: Pipeline</label><div class=\"sk-toggleable__content\"><pre>Pipeline(steps=[(&#x27;scaler&#x27;, StandardScaler()), (&#x27;selectkbest&#x27;, SelectKBest(k=5)),\n",
       "                (&#x27;regresor&#x27;, RandomForestRegressor())])</pre></div></div></div><div class=\"sk-serial\"><div class=\"sk-item\"><div class=\"sk-serial\"><div class=\"sk-item\"><div class=\"sk-estimator sk-toggleable\"><input class=\"sk-toggleable__control sk-hidden--visually\" id=\"sk-estimator-id-13\" type=\"checkbox\" ><label for=\"sk-estimator-id-13\" class=\"sk-toggleable__label sk-toggleable__label-arrow\">StandardScaler</label><div class=\"sk-toggleable__content\"><pre>StandardScaler()</pre></div></div></div><div class=\"sk-item\"><div class=\"sk-estimator sk-toggleable\"><input class=\"sk-toggleable__control sk-hidden--visually\" id=\"sk-estimator-id-14\" type=\"checkbox\" ><label for=\"sk-estimator-id-14\" class=\"sk-toggleable__label sk-toggleable__label-arrow\">SelectKBest</label><div class=\"sk-toggleable__content\"><pre>SelectKBest(k=5)</pre></div></div></div><div class=\"sk-item\"><div class=\"sk-estimator sk-toggleable\"><input class=\"sk-toggleable__control sk-hidden--visually\" id=\"sk-estimator-id-15\" type=\"checkbox\" ><label for=\"sk-estimator-id-15\" class=\"sk-toggleable__label sk-toggleable__label-arrow\">RandomForestRegressor</label><div class=\"sk-toggleable__content\"><pre>RandomForestRegressor()</pre></div></div></div></div></div></div></div></div></div></div></div></div>"
      ],
      "text/plain": [
       "GridSearchCV(cv=5,\n",
       "             estimator=Pipeline(steps=[('scaler', StandardScaler()),\n",
       "                                       ('selectkbest', SelectKBest(k=5)),\n",
       "                                       ('regresor', RandomForestRegressor())]),\n",
       "             param_grid=[{'regresor': [KNeighborsRegressor()],\n",
       "                          'regresor__n_neighbors': [5, 10, 15, 20, 30, 50, 60,\n",
       "                                                    75, 100, 150]},\n",
       "                         {'regresor': [RandomForestRegressor()],\n",
       "                          'regresor__criterion': ['squared_error',\n",
       "                                                  'absolute_error',\n",
       "                                                  'fried...\n",
       "                         {'regresor': [SVR()],\n",
       "                          'regresor__C': [0.001, 0.1, 0.5, 1, 5, 10, 100],\n",
       "                          'regresor__kernel': ['linear', 'poly', 'rbf',\n",
       "                                               'sigmoid', 'precomputed']},\n",
       "                         {'regresor': [GradientBoostingRegressor()],\n",
       "                          'regresor__criterion': ['friedman_mse',\n",
       "                                                  'squared_error'],\n",
       "                          'regresor__learning_rate': [0.1, 0.2, 0.3, 0.5, 0.7,\n",
       "                                                      0.9],\n",
       "                          'regresor__max_depth': [1, 2, 3, 4],\n",
       "                          'regresor__n_estimators': [50, 100, 150, 200, 250]}])"
      ]
     },
     "execution_count": 32,
     "metadata": {},
     "output_type": "execute_result"
    }
   ],
   "source": [
    "pipe = Pipeline(steps=\n",
    "                [(\"scaler\", StandardScaler()),\n",
    "                 (\"selectkbest\", SelectKBest(k=5)),\n",
    "                 ('regresor', RandomForestRegressor())])\n",
    "\n",
    "KNR_params = {\n",
    "    'regresor': [KNeighborsRegressor()],\n",
    "    'regresor__n_neighbors': [5,10,15,20,30,50,60,75,100,150]\n",
    "}\n",
    "\n",
    "RFR_params = {\n",
    "    'regresor': [RandomForestRegressor()],\n",
    "    'regresor__max_features': [1,2,3,4],\n",
    "    'regresor__max_depth': [1,2,3,4,5],\n",
    "    'regresor__n_estimators': [50,100,150,200,250],\n",
    "    'regresor__criterion': ['squared_error', 'absolute_error', 'friedman_mse', 'poisson']\n",
    "}\n",
    "\n",
    "SVR_param = {\n",
    "    'regresor': [SVR()],\n",
    "    'regresor__C': [0.001, 0.1, 0.5, 1, 5, 10, 100],\n",
    "    'regresor__kernel': ['linear', 'poly', 'rbf', 'sigmoid', 'precomputed']\n",
    "}\n",
    "\n",
    "GBR_param = {\n",
    "    'regresor': [GradientBoostingRegressor()],\n",
    "    'regresor__n_estimators': [50,100,150,200,250],\n",
    "    'regresor__max_depth': [1,2,3,4],\n",
    "    'regresor__criterion':['friedman_mse', 'squared_error'],\n",
    "    'regresor__learning_rate': [0.1,0.2,0.3,0.5,0.7,0.9],\n",
    "}\n",
    "\n",
    "search_space = [\n",
    "    KNR_params,\n",
    "    RFR_params,\n",
    "    SVR_param,\n",
    "    GBR_param\n",
    "]\n",
    "\n",
    "mejor_regresor = GridSearchCV(estimator = pipe,\n",
    "                  param_grid = search_space,\n",
    "                  cv = 5)\n",
    "\n",
    "mejor_regresor.fit(X_train, y_train)"
   ]
  },
  {
   "cell_type": "code",
   "execution_count": 33,
   "metadata": {},
   "outputs": [
    {
     "name": "stdout",
     "output_type": "stream",
     "text": [
      "Pipeline(steps=[('scaler', StandardScaler()), ('selectkbest', SelectKBest(k=5)),\n",
      "                ('regresor',\n",
      "                 GradientBoostingRegressor(criterion='squared_error',\n",
      "                                           learning_rate=0.2,\n",
      "                                           n_estimators=50))])\n",
      "0.8017719635165387\n",
      "{'regresor': GradientBoostingRegressor(), 'regresor__criterion': 'squared_error', 'regresor__learning_rate': 0.2, 'regresor__max_depth': 3, 'regresor__n_estimators': 50}\n"
     ]
    }
   ],
   "source": [
    "print(mejor_regresor.best_estimator_)\n",
    "print(mejor_regresor.best_score_)\n",
    "print(mejor_regresor.best_params_)"
   ]
  },
  {
   "cell_type": "markdown",
   "metadata": {},
   "source": [
    "Una vez encontrado, que el mejor regresor para mi proyecto es el GradientBoostingRegressor, según los mejores parámetros obtenidos, vuelvo a entrenarlo intentando afinar un poco mas los parámetros."
   ]
  },
  {
   "cell_type": "code",
   "execution_count": 41,
   "metadata": {},
   "outputs": [
    {
     "data": {
      "text/html": [
       "<style>#sk-container-id-5 {color: black;}#sk-container-id-5 pre{padding: 0;}#sk-container-id-5 div.sk-toggleable {background-color: white;}#sk-container-id-5 label.sk-toggleable__label {cursor: pointer;display: block;width: 100%;margin-bottom: 0;padding: 0.3em;box-sizing: border-box;text-align: center;}#sk-container-id-5 label.sk-toggleable__label-arrow:before {content: \"▸\";float: left;margin-right: 0.25em;color: #696969;}#sk-container-id-5 label.sk-toggleable__label-arrow:hover:before {color: black;}#sk-container-id-5 div.sk-estimator:hover label.sk-toggleable__label-arrow:before {color: black;}#sk-container-id-5 div.sk-toggleable__content {max-height: 0;max-width: 0;overflow: hidden;text-align: left;background-color: #f0f8ff;}#sk-container-id-5 div.sk-toggleable__content pre {margin: 0.2em;color: black;border-radius: 0.25em;background-color: #f0f8ff;}#sk-container-id-5 input.sk-toggleable__control:checked~div.sk-toggleable__content {max-height: 200px;max-width: 100%;overflow: auto;}#sk-container-id-5 input.sk-toggleable__control:checked~label.sk-toggleable__label-arrow:before {content: \"▾\";}#sk-container-id-5 div.sk-estimator input.sk-toggleable__control:checked~label.sk-toggleable__label {background-color: #d4ebff;}#sk-container-id-5 div.sk-label input.sk-toggleable__control:checked~label.sk-toggleable__label {background-color: #d4ebff;}#sk-container-id-5 input.sk-hidden--visually {border: 0;clip: rect(1px 1px 1px 1px);clip: rect(1px, 1px, 1px, 1px);height: 1px;margin: -1px;overflow: hidden;padding: 0;position: absolute;width: 1px;}#sk-container-id-5 div.sk-estimator {font-family: monospace;background-color: #f0f8ff;border: 1px dotted black;border-radius: 0.25em;box-sizing: border-box;margin-bottom: 0.5em;}#sk-container-id-5 div.sk-estimator:hover {background-color: #d4ebff;}#sk-container-id-5 div.sk-parallel-item::after {content: \"\";width: 100%;border-bottom: 1px solid gray;flex-grow: 1;}#sk-container-id-5 div.sk-label:hover label.sk-toggleable__label {background-color: #d4ebff;}#sk-container-id-5 div.sk-serial::before {content: \"\";position: absolute;border-left: 1px solid gray;box-sizing: border-box;top: 0;bottom: 0;left: 50%;z-index: 0;}#sk-container-id-5 div.sk-serial {display: flex;flex-direction: column;align-items: center;background-color: white;padding-right: 0.2em;padding-left: 0.2em;position: relative;}#sk-container-id-5 div.sk-item {position: relative;z-index: 1;}#sk-container-id-5 div.sk-parallel {display: flex;align-items: stretch;justify-content: center;background-color: white;position: relative;}#sk-container-id-5 div.sk-item::before, #sk-container-id-5 div.sk-parallel-item::before {content: \"\";position: absolute;border-left: 1px solid gray;box-sizing: border-box;top: 0;bottom: 0;left: 50%;z-index: -1;}#sk-container-id-5 div.sk-parallel-item {display: flex;flex-direction: column;z-index: 1;position: relative;background-color: white;}#sk-container-id-5 div.sk-parallel-item:first-child::after {align-self: flex-end;width: 50%;}#sk-container-id-5 div.sk-parallel-item:last-child::after {align-self: flex-start;width: 50%;}#sk-container-id-5 div.sk-parallel-item:only-child::after {width: 0;}#sk-container-id-5 div.sk-dashed-wrapped {border: 1px dashed gray;margin: 0 0.4em 0.5em 0.4em;box-sizing: border-box;padding-bottom: 0.4em;background-color: white;}#sk-container-id-5 div.sk-label label {font-family: monospace;font-weight: bold;display: inline-block;line-height: 1.2em;}#sk-container-id-5 div.sk-label-container {text-align: center;}#sk-container-id-5 div.sk-container {/* jupyter's `normalize.less` sets `[hidden] { display: none; }` but bootstrap.min.css set `[hidden] { display: none !important; }` so we also need the `!important` here to be able to override the default hidden behavior on the sphinx rendered scikit-learn.org. See: https://github.com/scikit-learn/scikit-learn/issues/21755 */display: inline-block !important;position: relative;}#sk-container-id-5 div.sk-text-repr-fallback {display: none;}</style><div id=\"sk-container-id-5\" class=\"sk-top-container\"><div class=\"sk-text-repr-fallback\"><pre>GridSearchCV(cv=10,\n",
       "             estimator=Pipeline(steps=[(&#x27;scaler&#x27;, StandardScaler()),\n",
       "                                       (&#x27;selectkbest&#x27;, SelectKBest(k=5)),\n",
       "                                       (&#x27;regresor&#x27;, RandomForestRegressor())]),\n",
       "             param_grid={&#x27;regresor&#x27;: [GradientBoostingRegressor()],\n",
       "                         &#x27;regresor__criterion&#x27;: [&#x27;friedman_mse&#x27;,\n",
       "                                                 &#x27;squared_error&#x27;],\n",
       "                         &#x27;regresor__learning_rate&#x27;: [0.1, 0.2, 0.3, 0.5],\n",
       "                         &#x27;regresor__max_depth&#x27;: [1, 2, 3, 4],\n",
       "                         &#x27;regresor__n_estimators&#x27;: [10, 20, 30, 40, 50]},\n",
       "             scoring=&#x27;neg_mean_absolute_error&#x27;)</pre><b>In a Jupyter environment, please rerun this cell to show the HTML representation or trust the notebook. <br />On GitHub, the HTML representation is unable to render, please try loading this page with nbviewer.org.</b></div><div class=\"sk-container\" hidden><div class=\"sk-item sk-dashed-wrapped\"><div class=\"sk-label-container\"><div class=\"sk-label sk-toggleable\"><input class=\"sk-toggleable__control sk-hidden--visually\" id=\"sk-estimator-id-21\" type=\"checkbox\" ><label for=\"sk-estimator-id-21\" class=\"sk-toggleable__label sk-toggleable__label-arrow\">GridSearchCV</label><div class=\"sk-toggleable__content\"><pre>GridSearchCV(cv=10,\n",
       "             estimator=Pipeline(steps=[(&#x27;scaler&#x27;, StandardScaler()),\n",
       "                                       (&#x27;selectkbest&#x27;, SelectKBest(k=5)),\n",
       "                                       (&#x27;regresor&#x27;, RandomForestRegressor())]),\n",
       "             param_grid={&#x27;regresor&#x27;: [GradientBoostingRegressor()],\n",
       "                         &#x27;regresor__criterion&#x27;: [&#x27;friedman_mse&#x27;,\n",
       "                                                 &#x27;squared_error&#x27;],\n",
       "                         &#x27;regresor__learning_rate&#x27;: [0.1, 0.2, 0.3, 0.5],\n",
       "                         &#x27;regresor__max_depth&#x27;: [1, 2, 3, 4],\n",
       "                         &#x27;regresor__n_estimators&#x27;: [10, 20, 30, 40, 50]},\n",
       "             scoring=&#x27;neg_mean_absolute_error&#x27;)</pre></div></div></div><div class=\"sk-parallel\"><div class=\"sk-parallel-item\"><div class=\"sk-item\"><div class=\"sk-label-container\"><div class=\"sk-label sk-toggleable\"><input class=\"sk-toggleable__control sk-hidden--visually\" id=\"sk-estimator-id-22\" type=\"checkbox\" ><label for=\"sk-estimator-id-22\" class=\"sk-toggleable__label sk-toggleable__label-arrow\">estimator: Pipeline</label><div class=\"sk-toggleable__content\"><pre>Pipeline(steps=[(&#x27;scaler&#x27;, StandardScaler()), (&#x27;selectkbest&#x27;, SelectKBest(k=5)),\n",
       "                (&#x27;regresor&#x27;, RandomForestRegressor())])</pre></div></div></div><div class=\"sk-serial\"><div class=\"sk-item\"><div class=\"sk-serial\"><div class=\"sk-item\"><div class=\"sk-estimator sk-toggleable\"><input class=\"sk-toggleable__control sk-hidden--visually\" id=\"sk-estimator-id-23\" type=\"checkbox\" ><label for=\"sk-estimator-id-23\" class=\"sk-toggleable__label sk-toggleable__label-arrow\">StandardScaler</label><div class=\"sk-toggleable__content\"><pre>StandardScaler()</pre></div></div></div><div class=\"sk-item\"><div class=\"sk-estimator sk-toggleable\"><input class=\"sk-toggleable__control sk-hidden--visually\" id=\"sk-estimator-id-24\" type=\"checkbox\" ><label for=\"sk-estimator-id-24\" class=\"sk-toggleable__label sk-toggleable__label-arrow\">SelectKBest</label><div class=\"sk-toggleable__content\"><pre>SelectKBest(k=5)</pre></div></div></div><div class=\"sk-item\"><div class=\"sk-estimator sk-toggleable\"><input class=\"sk-toggleable__control sk-hidden--visually\" id=\"sk-estimator-id-25\" type=\"checkbox\" ><label for=\"sk-estimator-id-25\" class=\"sk-toggleable__label sk-toggleable__label-arrow\">RandomForestRegressor</label><div class=\"sk-toggleable__content\"><pre>RandomForestRegressor()</pre></div></div></div></div></div></div></div></div></div></div></div></div>"
      ],
      "text/plain": [
       "GridSearchCV(cv=10,\n",
       "             estimator=Pipeline(steps=[('scaler', StandardScaler()),\n",
       "                                       ('selectkbest', SelectKBest(k=5)),\n",
       "                                       ('regresor', RandomForestRegressor())]),\n",
       "             param_grid={'regresor': [GradientBoostingRegressor()],\n",
       "                         'regresor__criterion': ['friedman_mse',\n",
       "                                                 'squared_error'],\n",
       "                         'regresor__learning_rate': [0.1, 0.2, 0.3, 0.5],\n",
       "                         'regresor__max_depth': [1, 2, 3, 4],\n",
       "                         'regresor__n_estimators': [10, 20, 30, 40, 50]},\n",
       "             scoring='neg_mean_absolute_error')"
      ]
     },
     "execution_count": 41,
     "metadata": {},
     "output_type": "execute_result"
    }
   ],
   "source": [
    "pipe = Pipeline(steps=[(\"scaler\", StandardScaler()),\n",
    "                       (\"selectkbest\", SelectKBest(k=5)),\n",
    "                       ('regresor', RandomForestRegressor())\n",
    "])\n",
    "\n",
    "\n",
    "\n",
    "GBR_param = {\n",
    "    'regresor': [GradientBoostingRegressor()],\n",
    "    'regresor__n_estimators': [10,20,30,40,50],\n",
    "    'regresor__max_depth': [1,2,3,4],\n",
    "    'regresor__criterion':['friedman_mse', 'squared_error'],\n",
    "    'regresor__learning_rate': [0.1,0.2,0.3,0.5],\n",
    "}\n",
    "\n",
    "\n",
    "search_space = GBR_param\n",
    "    \n",
    "\n",
    "\n",
    "Modelo_GBR = GridSearchCV(estimator = pipe,\n",
    "                  param_grid = search_space,\n",
    "                  scoring='neg_mean_absolute_error',\n",
    "                  cv = 10\n",
    "                  )\n",
    "\n",
    "Modelo_GBR.fit(X_train, y_train)"
   ]
  },
  {
   "cell_type": "code",
   "execution_count": 42,
   "metadata": {},
   "outputs": [
    {
     "name": "stdout",
     "output_type": "stream",
     "text": [
      "Pipeline(steps=[('scaler', StandardScaler()), ('selectkbest', SelectKBest(k=5)),\n",
      "                ('regresor', GradientBoostingRegressor(n_estimators=50))])\n",
      "-188.8225301691541\n",
      "{'regresor': GradientBoostingRegressor(), 'regresor__criterion': 'friedman_mse', 'regresor__learning_rate': 0.1, 'regresor__max_depth': 3, 'regresor__n_estimators': 50}\n"
     ]
    }
   ],
   "source": [
    "print(Modelo_GBR.best_estimator_)\n",
    "print(Modelo_GBR.best_score_)\n",
    "print(Modelo_GBR.best_params_)"
   ]
  },
  {
   "cell_type": "code",
   "execution_count": 43,
   "metadata": {},
   "outputs": [],
   "source": [
    "prediction = Modelo_GBR.best_estimator_.predict(X_test)"
   ]
  },
  {
   "cell_type": "code",
   "execution_count": 44,
   "metadata": {},
   "outputs": [
    {
     "name": "stdout",
     "output_type": "stream",
     "text": [
      "MAE: 176.88025726017085\n"
     ]
    }
   ],
   "source": [
    "print('MAE:', mean_absolute_error(y_test,prediction))"
   ]
  },
  {
   "cell_type": "markdown",
   "metadata": {},
   "source": [
    "Este es el mejor modelo posible. A continuacion, lo entreno con 'X' e 'y' completas para entrenar con todos los datos y generalizar mejor ante nuevos input."
   ]
  },
  {
   "cell_type": "code",
   "execution_count": 46,
   "metadata": {},
   "outputs": [
    {
     "data": {
      "text/html": [
       "<style>#sk-container-id-6 {color: black;}#sk-container-id-6 pre{padding: 0;}#sk-container-id-6 div.sk-toggleable {background-color: white;}#sk-container-id-6 label.sk-toggleable__label {cursor: pointer;display: block;width: 100%;margin-bottom: 0;padding: 0.3em;box-sizing: border-box;text-align: center;}#sk-container-id-6 label.sk-toggleable__label-arrow:before {content: \"▸\";float: left;margin-right: 0.25em;color: #696969;}#sk-container-id-6 label.sk-toggleable__label-arrow:hover:before {color: black;}#sk-container-id-6 div.sk-estimator:hover label.sk-toggleable__label-arrow:before {color: black;}#sk-container-id-6 div.sk-toggleable__content {max-height: 0;max-width: 0;overflow: hidden;text-align: left;background-color: #f0f8ff;}#sk-container-id-6 div.sk-toggleable__content pre {margin: 0.2em;color: black;border-radius: 0.25em;background-color: #f0f8ff;}#sk-container-id-6 input.sk-toggleable__control:checked~div.sk-toggleable__content {max-height: 200px;max-width: 100%;overflow: auto;}#sk-container-id-6 input.sk-toggleable__control:checked~label.sk-toggleable__label-arrow:before {content: \"▾\";}#sk-container-id-6 div.sk-estimator input.sk-toggleable__control:checked~label.sk-toggleable__label {background-color: #d4ebff;}#sk-container-id-6 div.sk-label input.sk-toggleable__control:checked~label.sk-toggleable__label {background-color: #d4ebff;}#sk-container-id-6 input.sk-hidden--visually {border: 0;clip: rect(1px 1px 1px 1px);clip: rect(1px, 1px, 1px, 1px);height: 1px;margin: -1px;overflow: hidden;padding: 0;position: absolute;width: 1px;}#sk-container-id-6 div.sk-estimator {font-family: monospace;background-color: #f0f8ff;border: 1px dotted black;border-radius: 0.25em;box-sizing: border-box;margin-bottom: 0.5em;}#sk-container-id-6 div.sk-estimator:hover {background-color: #d4ebff;}#sk-container-id-6 div.sk-parallel-item::after {content: \"\";width: 100%;border-bottom: 1px solid gray;flex-grow: 1;}#sk-container-id-6 div.sk-label:hover label.sk-toggleable__label {background-color: #d4ebff;}#sk-container-id-6 div.sk-serial::before {content: \"\";position: absolute;border-left: 1px solid gray;box-sizing: border-box;top: 0;bottom: 0;left: 50%;z-index: 0;}#sk-container-id-6 div.sk-serial {display: flex;flex-direction: column;align-items: center;background-color: white;padding-right: 0.2em;padding-left: 0.2em;position: relative;}#sk-container-id-6 div.sk-item {position: relative;z-index: 1;}#sk-container-id-6 div.sk-parallel {display: flex;align-items: stretch;justify-content: center;background-color: white;position: relative;}#sk-container-id-6 div.sk-item::before, #sk-container-id-6 div.sk-parallel-item::before {content: \"\";position: absolute;border-left: 1px solid gray;box-sizing: border-box;top: 0;bottom: 0;left: 50%;z-index: -1;}#sk-container-id-6 div.sk-parallel-item {display: flex;flex-direction: column;z-index: 1;position: relative;background-color: white;}#sk-container-id-6 div.sk-parallel-item:first-child::after {align-self: flex-end;width: 50%;}#sk-container-id-6 div.sk-parallel-item:last-child::after {align-self: flex-start;width: 50%;}#sk-container-id-6 div.sk-parallel-item:only-child::after {width: 0;}#sk-container-id-6 div.sk-dashed-wrapped {border: 1px dashed gray;margin: 0 0.4em 0.5em 0.4em;box-sizing: border-box;padding-bottom: 0.4em;background-color: white;}#sk-container-id-6 div.sk-label label {font-family: monospace;font-weight: bold;display: inline-block;line-height: 1.2em;}#sk-container-id-6 div.sk-label-container {text-align: center;}#sk-container-id-6 div.sk-container {/* jupyter's `normalize.less` sets `[hidden] { display: none; }` but bootstrap.min.css set `[hidden] { display: none !important; }` so we also need the `!important` here to be able to override the default hidden behavior on the sphinx rendered scikit-learn.org. See: https://github.com/scikit-learn/scikit-learn/issues/21755 */display: inline-block !important;position: relative;}#sk-container-id-6 div.sk-text-repr-fallback {display: none;}</style><div id=\"sk-container-id-6\" class=\"sk-top-container\"><div class=\"sk-text-repr-fallback\"><pre>GridSearchCV(cv=10,\n",
       "             estimator=Pipeline(steps=[(&#x27;scaler&#x27;, StandardScaler()),\n",
       "                                       (&#x27;selectkbest&#x27;, SelectKBest(k=5)),\n",
       "                                       (&#x27;regresor&#x27;, RandomForestRegressor())]),\n",
       "             param_grid={&#x27;regresor&#x27;: [GradientBoostingRegressor()],\n",
       "                         &#x27;regresor__criterion&#x27;: [&#x27;friedman_mse&#x27;,\n",
       "                                                 &#x27;squared_error&#x27;],\n",
       "                         &#x27;regresor__learning_rate&#x27;: [0.1, 0.2, 0.3, 0.5],\n",
       "                         &#x27;regresor__max_depth&#x27;: [1, 2, 3, 4],\n",
       "                         &#x27;regresor__n_estimators&#x27;: [10, 20, 30, 40, 50]},\n",
       "             scoring=&#x27;neg_mean_absolute_error&#x27;)</pre><b>In a Jupyter environment, please rerun this cell to show the HTML representation or trust the notebook. <br />On GitHub, the HTML representation is unable to render, please try loading this page with nbviewer.org.</b></div><div class=\"sk-container\" hidden><div class=\"sk-item sk-dashed-wrapped\"><div class=\"sk-label-container\"><div class=\"sk-label sk-toggleable\"><input class=\"sk-toggleable__control sk-hidden--visually\" id=\"sk-estimator-id-26\" type=\"checkbox\" ><label for=\"sk-estimator-id-26\" class=\"sk-toggleable__label sk-toggleable__label-arrow\">GridSearchCV</label><div class=\"sk-toggleable__content\"><pre>GridSearchCV(cv=10,\n",
       "             estimator=Pipeline(steps=[(&#x27;scaler&#x27;, StandardScaler()),\n",
       "                                       (&#x27;selectkbest&#x27;, SelectKBest(k=5)),\n",
       "                                       (&#x27;regresor&#x27;, RandomForestRegressor())]),\n",
       "             param_grid={&#x27;regresor&#x27;: [GradientBoostingRegressor()],\n",
       "                         &#x27;regresor__criterion&#x27;: [&#x27;friedman_mse&#x27;,\n",
       "                                                 &#x27;squared_error&#x27;],\n",
       "                         &#x27;regresor__learning_rate&#x27;: [0.1, 0.2, 0.3, 0.5],\n",
       "                         &#x27;regresor__max_depth&#x27;: [1, 2, 3, 4],\n",
       "                         &#x27;regresor__n_estimators&#x27;: [10, 20, 30, 40, 50]},\n",
       "             scoring=&#x27;neg_mean_absolute_error&#x27;)</pre></div></div></div><div class=\"sk-parallel\"><div class=\"sk-parallel-item\"><div class=\"sk-item\"><div class=\"sk-label-container\"><div class=\"sk-label sk-toggleable\"><input class=\"sk-toggleable__control sk-hidden--visually\" id=\"sk-estimator-id-27\" type=\"checkbox\" ><label for=\"sk-estimator-id-27\" class=\"sk-toggleable__label sk-toggleable__label-arrow\">estimator: Pipeline</label><div class=\"sk-toggleable__content\"><pre>Pipeline(steps=[(&#x27;scaler&#x27;, StandardScaler()), (&#x27;selectkbest&#x27;, SelectKBest(k=5)),\n",
       "                (&#x27;regresor&#x27;, RandomForestRegressor())])</pre></div></div></div><div class=\"sk-serial\"><div class=\"sk-item\"><div class=\"sk-serial\"><div class=\"sk-item\"><div class=\"sk-estimator sk-toggleable\"><input class=\"sk-toggleable__control sk-hidden--visually\" id=\"sk-estimator-id-28\" type=\"checkbox\" ><label for=\"sk-estimator-id-28\" class=\"sk-toggleable__label sk-toggleable__label-arrow\">StandardScaler</label><div class=\"sk-toggleable__content\"><pre>StandardScaler()</pre></div></div></div><div class=\"sk-item\"><div class=\"sk-estimator sk-toggleable\"><input class=\"sk-toggleable__control sk-hidden--visually\" id=\"sk-estimator-id-29\" type=\"checkbox\" ><label for=\"sk-estimator-id-29\" class=\"sk-toggleable__label sk-toggleable__label-arrow\">SelectKBest</label><div class=\"sk-toggleable__content\"><pre>SelectKBest(k=5)</pre></div></div></div><div class=\"sk-item\"><div class=\"sk-estimator sk-toggleable\"><input class=\"sk-toggleable__control sk-hidden--visually\" id=\"sk-estimator-id-30\" type=\"checkbox\" ><label for=\"sk-estimator-id-30\" class=\"sk-toggleable__label sk-toggleable__label-arrow\">RandomForestRegressor</label><div class=\"sk-toggleable__content\"><pre>RandomForestRegressor()</pre></div></div></div></div></div></div></div></div></div></div></div></div>"
      ],
      "text/plain": [
       "GridSearchCV(cv=10,\n",
       "             estimator=Pipeline(steps=[('scaler', StandardScaler()),\n",
       "                                       ('selectkbest', SelectKBest(k=5)),\n",
       "                                       ('regresor', RandomForestRegressor())]),\n",
       "             param_grid={'regresor': [GradientBoostingRegressor()],\n",
       "                         'regresor__criterion': ['friedman_mse',\n",
       "                                                 'squared_error'],\n",
       "                         'regresor__learning_rate': [0.1, 0.2, 0.3, 0.5],\n",
       "                         'regresor__max_depth': [1, 2, 3, 4],\n",
       "                         'regresor__n_estimators': [10, 20, 30, 40, 50]},\n",
       "             scoring='neg_mean_absolute_error')"
      ]
     },
     "execution_count": 46,
     "metadata": {},
     "output_type": "execute_result"
    }
   ],
   "source": [
    "Modelo_GBR.fit(X, y)"
   ]
  },
  {
   "cell_type": "code",
   "execution_count": 47,
   "metadata": {},
   "outputs": [
    {
     "name": "stdout",
     "output_type": "stream",
     "text": [
      "Pipeline(steps=[('scaler', StandardScaler()), ('selectkbest', SelectKBest(k=5)),\n",
      "                ('regresor',\n",
      "                 GradientBoostingRegressor(criterion='squared_error',\n",
      "                                           learning_rate=0.2, max_depth=4,\n",
      "                                           n_estimators=30))])\n",
      "-191.38252017401507\n",
      "{'regresor': GradientBoostingRegressor(), 'regresor__criterion': 'squared_error', 'regresor__learning_rate': 0.2, 'regresor__max_depth': 4, 'regresor__n_estimators': 30}\n"
     ]
    }
   ],
   "source": [
    "print(Modelo_GBR.best_estimator_)\n",
    "print(Modelo_GBR.best_score_)\n",
    "print(Modelo_GBR.best_params_)"
   ]
  },
  {
   "cell_type": "code",
   "execution_count": 48,
   "metadata": {},
   "outputs": [],
   "source": [
    "prediction = Modelo_GBR.best_estimator_.predict(X)"
   ]
  },
  {
   "cell_type": "code",
   "execution_count": 51,
   "metadata": {},
   "outputs": [],
   "source": [
    "analisis_prediction = pd.DataFrame({'test_real': y, 'prediccion': prediction})"
   ]
  },
  {
   "cell_type": "code",
   "execution_count": 52,
   "metadata": {},
   "outputs": [
    {
     "data": {
      "text/html": [
       "<div>\n",
       "<style scoped>\n",
       "    .dataframe tbody tr th:only-of-type {\n",
       "        vertical-align: middle;\n",
       "    }\n",
       "\n",
       "    .dataframe tbody tr th {\n",
       "        vertical-align: top;\n",
       "    }\n",
       "\n",
       "    .dataframe thead th {\n",
       "        text-align: right;\n",
       "    }\n",
       "</style>\n",
       "<table border=\"1\" class=\"dataframe\">\n",
       "  <thead>\n",
       "    <tr style=\"text-align: right;\">\n",
       "      <th></th>\n",
       "      <th>test_real</th>\n",
       "      <th>prediccion</th>\n",
       "      <th>error</th>\n",
       "    </tr>\n",
       "  </thead>\n",
       "  <tbody>\n",
       "    <tr>\n",
       "      <th>934</th>\n",
       "      <td>2500.0</td>\n",
       "      <td>1320.007817</td>\n",
       "      <td>1179.992183</td>\n",
       "    </tr>\n",
       "    <tr>\n",
       "      <th>919</th>\n",
       "      <td>2650.0</td>\n",
       "      <td>1540.330684</td>\n",
       "      <td>1109.669316</td>\n",
       "    </tr>\n",
       "    <tr>\n",
       "      <th>923</th>\n",
       "      <td>2700.0</td>\n",
       "      <td>1801.563848</td>\n",
       "      <td>898.436152</td>\n",
       "    </tr>\n",
       "    <tr>\n",
       "      <th>232</th>\n",
       "      <td>2900.0</td>\n",
       "      <td>2119.785658</td>\n",
       "      <td>780.214342</td>\n",
       "    </tr>\n",
       "    <tr>\n",
       "      <th>674</th>\n",
       "      <td>2400.0</td>\n",
       "      <td>1628.821234</td>\n",
       "      <td>771.178766</td>\n",
       "    </tr>\n",
       "    <tr>\n",
       "      <th>...</th>\n",
       "      <td>...</td>\n",
       "      <td>...</td>\n",
       "      <td>...</td>\n",
       "    </tr>\n",
       "    <tr>\n",
       "      <th>965</th>\n",
       "      <td>1900.0</td>\n",
       "      <td>2437.249422</td>\n",
       "      <td>-537.249422</td>\n",
       "    </tr>\n",
       "    <tr>\n",
       "      <th>97</th>\n",
       "      <td>1400.0</td>\n",
       "      <td>1941.547830</td>\n",
       "      <td>-541.547830</td>\n",
       "    </tr>\n",
       "    <tr>\n",
       "      <th>539</th>\n",
       "      <td>1200.0</td>\n",
       "      <td>1753.403394</td>\n",
       "      <td>-553.403394</td>\n",
       "    </tr>\n",
       "    <tr>\n",
       "      <th>346</th>\n",
       "      <td>900.0</td>\n",
       "      <td>1455.707245</td>\n",
       "      <td>-555.707245</td>\n",
       "    </tr>\n",
       "    <tr>\n",
       "      <th>770</th>\n",
       "      <td>2500.0</td>\n",
       "      <td>3217.168555</td>\n",
       "      <td>-717.168555</td>\n",
       "    </tr>\n",
       "  </tbody>\n",
       "</table>\n",
       "<p>991 rows × 3 columns</p>\n",
       "</div>"
      ],
      "text/plain": [
       "     test_real   prediccion        error\n",
       "934     2500.0  1320.007817  1179.992183\n",
       "919     2650.0  1540.330684  1109.669316\n",
       "923     2700.0  1801.563848   898.436152\n",
       "232     2900.0  2119.785658   780.214342\n",
       "674     2400.0  1628.821234   771.178766\n",
       "..         ...          ...          ...\n",
       "965     1900.0  2437.249422  -537.249422\n",
       "97      1400.0  1941.547830  -541.547830\n",
       "539     1200.0  1753.403394  -553.403394\n",
       "346      900.0  1455.707245  -555.707245\n",
       "770     2500.0  3217.168555  -717.168555\n",
       "\n",
       "[991 rows x 3 columns]"
      ]
     },
     "execution_count": 52,
     "metadata": {},
     "output_type": "execute_result"
    }
   ],
   "source": [
    "analisis_prediction['error'] = analisis_prediction['test_real'] - analisis_prediction['prediccion']\n",
    "analisis_prediction.sort_values(by='error', ascending=False)"
   ]
  },
  {
   "cell_type": "markdown",
   "metadata": {},
   "source": [
    "Ejemplo de llamada al modelo"
   ]
  },
  {
   "cell_type": "code",
   "execution_count": 15,
   "metadata": {},
   "outputs": [],
   "source": [
    "dicc_miraflores = {'size':150,'codigo_distrito':48,'parking':1,'codigo_tipo':5 ,'total_rooms':3}\n",
    "dicc_centro = {'size':150,'codigo_distrito':69,'parking':1,'codigo_tipo':7 ,'total_rooms':6}"
   ]
  },
  {
   "cell_type": "code",
   "execution_count": 16,
   "metadata": {},
   "outputs": [],
   "source": [
    "centro = pd.DataFrame(data=dicc_centro, index=[0])\n",
    "miraflores = pd.DataFrame(data=dicc_miraflores, index=[0])"
   ]
  },
  {
   "cell_type": "code",
   "execution_count": 55,
   "metadata": {},
   "outputs": [
    {
     "data": {
      "text/plain": [
       "array([1992.71154652])"
      ]
     },
     "execution_count": 55,
     "metadata": {},
     "output_type": "execute_result"
    }
   ],
   "source": [
    "prediction_centro = Modelo_GBR.best_estimator_.predict(centro)\n",
    "prediction_centro"
   ]
  },
  {
   "cell_type": "code",
   "execution_count": 56,
   "metadata": {},
   "outputs": [
    {
     "data": {
      "text/plain": [
       "array([1534.73565188])"
      ]
     },
     "execution_count": 56,
     "metadata": {},
     "output_type": "execute_result"
    }
   ],
   "source": [
    "prediction_miraflores = Modelo_GBR.best_estimator_.predict(miraflores)\n",
    "prediction_miraflores"
   ]
  },
  {
   "cell_type": "code",
   "execution_count": 53,
   "metadata": {},
   "outputs": [],
   "source": [
    "modelo_final_GBR = Modelo_GBR.best_estimator_"
   ]
  },
  {
   "cell_type": "markdown",
   "metadata": {},
   "source": [
    "Guardar modelo"
   ]
  },
  {
   "cell_type": "code",
   "execution_count": 20,
   "metadata": {},
   "outputs": [],
   "source": [
    "import pickle"
   ]
  },
  {
   "cell_type": "code",
   "execution_count": 54,
   "metadata": {},
   "outputs": [],
   "source": [
    "'''para guardar el modelo entrenado'''\n",
    "with open('modelos_entrenados/modelo_final_GBR.pkl', 'wb') as file:\n",
    "    pickle.dump(modelo_final_GBR, file)"
   ]
  }
 ],
 "metadata": {
  "kernelspec": {
   "display_name": "Python 3",
   "language": "python",
   "name": "python3"
  },
  "language_info": {
   "codemirror_mode": {
    "name": "ipython",
    "version": 3
   },
   "file_extension": ".py",
   "mimetype": "text/x-python",
   "name": "python",
   "nbconvert_exporter": "python",
   "pygments_lexer": "ipython3",
   "version": "3.11.5"
  }
 },
 "nbformat": 4,
 "nbformat_minor": 2
}
