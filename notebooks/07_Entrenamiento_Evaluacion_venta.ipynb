{
 "cells": [
  {
   "cell_type": "markdown",
   "metadata": {},
   "source": [
    "## Entrenamiento del modelo"
   ]
  },
  {
   "cell_type": "markdown",
   "metadata": {},
   "source": [
    "### Importación de librerías"
   ]
  },
  {
   "cell_type": "markdown",
   "metadata": {},
   "source": [
    "Datos y gráficos"
   ]
  },
  {
   "cell_type": "code",
   "execution_count": 15,
   "metadata": {},
   "outputs": [],
   "source": [
    "import pandas as pd\n",
    "import seaborn as sns\n",
    "import matplotlib.pyplot as plt\n",
    "import numpy as np\n",
    "import pickle\n",
    "import yaml\n",
    "import os"
   ]
  },
  {
   "cell_type": "markdown",
   "metadata": {},
   "source": [
    "Preprocesado y modelado"
   ]
  },
  {
   "cell_type": "code",
   "execution_count": 16,
   "metadata": {},
   "outputs": [],
   "source": [
    "from sklearn.ensemble import RandomForestRegressor\n",
    "from sklearn.svm import SVR\n",
    "from sklearn.ensemble import GradientBoostingRegressor\n",
    "from sklearn.neighbors import KNeighborsRegressor\n",
    "from sklearn.tree import DecisionTreeRegressor"
   ]
  },
  {
   "cell_type": "code",
   "execution_count": 17,
   "metadata": {},
   "outputs": [],
   "source": [
    "from sklearn.feature_selection import SelectKBest\n",
    "from sklearn.decomposition import PCA\n",
    "from sklearn.pipeline import Pipeline\n",
    "from sklearn.model_selection import GridSearchCV\n",
    "from sklearn.preprocessing import StandardScaler\n",
    "from sklearn.metrics import mean_absolute_error, mean_absolute_percentage_error, mean_squared_error, r2_score"
   ]
  },
  {
   "cell_type": "markdown",
   "metadata": {},
   "source": [
    "### Warnings y display de la dataframe"
   ]
  },
  {
   "cell_type": "code",
   "execution_count": 18,
   "metadata": {},
   "outputs": [],
   "source": [
    "pd.set_option(\"max_colwidth\", 50)\n",
    "pd.set_option('display.max_columns', 500)\n",
    "pd.set_option('display.max_rows', 500)\n",
    "\n",
    "import warnings\n",
    "warnings.filterwarnings(\"ignore\")"
   ]
  },
  {
   "cell_type": "markdown",
   "metadata": {},
   "source": [
    "### Importación de dataframes"
   ]
  },
  {
   "cell_type": "code",
   "execution_count": 19,
   "metadata": {},
   "outputs": [],
   "source": [
    "directorio_actual = os.getcwd()"
   ]
  },
  {
   "cell_type": "code",
   "execution_count": 20,
   "metadata": {},
   "outputs": [],
   "source": [
    "'''Creo las X_train e y_train a partir de df_train.\n",
    "   Creo las X_test e y_test a partir de df_test.\n",
    "   Ambas previamente importado\n",
    "   Por ultimo, creo las X e y con todo el train y test,\n",
    "   para entrenar mimodelo final y generalizar mejor ante nuevos input.'''\n",
    "\n",
    "df_train_venta = pd.read_csv(os.path.join(directorio_actual, '..', 'data','train', 'df_train_venta.csv'))\n",
    "df_test_venta = pd.read_csv(os.path.join(directorio_actual, '..', 'data','test', 'df_test_venta.csv'))\n",
    "df_num_venta = pd.read_csv(os.path.join(directorio_actual, '..', 'data','processed', 'df_num_venta.csv'))\n",
    "\n",
    "X_train_venta = df_train_venta.drop(['price'],axis=1)\n",
    "y_train_venta = df_train_venta['price']\n",
    "X_test_venta = df_test_venta.drop(['price'],axis=1)\n",
    "y_test_venta = df_test_venta['price']\n",
    "X_venta = df_num_venta.drop(['price'],axis=1)\n",
    "y_venta = df_num_venta['price']"
   ]
  },
  {
   "cell_type": "markdown",
   "metadata": {},
   "source": [
    "### Busqueda de regresor"
   ]
  },
  {
   "cell_type": "markdown",
   "metadata": {},
   "source": [
    "Primero busco el regresor mas adecuado para predecir mi target"
   ]
  },
  {
   "cell_type": "code",
   "execution_count": 21,
   "metadata": {},
   "outputs": [
    {
     "data": {
      "text/plain": [
       "'pipe = Pipeline(steps=\\n                [(\"scaler\", StandardScaler()),\\n                 (\"reduce_dim\", SelectKBest(k=6)),\\n                 (\\'regresor\\', RandomForestRegressor())])\\n\\nDTR_param = {\\n    \\'classifier\\': [DecisionTreeRegressor()],\\n    \\'classifier__max_features\\': [1,2,3],\\n    \\'classifier__max_depth\\': [3,4,5],\\n    \\'classifier__criterion\\': [\\'squared_error\\', \\'friedman_mse\\', \\'absolute_error\\', \\'poisson\\']\\n}\\n\\nKNR_params = {\\n    \\'reduce_dim\\': [SelectKBest(k=[4,5,6]),PCA()],\\n    \\'regresor\\': [KNeighborsRegressor()],\\n    \\'regresor__n_neighbors\\': [5,10,15,20,30,50,60,75,100,150]\\n}\\n\\nRFR_params = {\\n    \\'reduce_dim\\': [SelectKBest(k=[4,5,6]),PCA()],\\n    \\'regresor\\': [RandomForestRegressor()],\\n    \\'regresor__max_features\\': [1,2,3,4],\\n    \\'regresor__max_depth\\': [1,2,3,4,5],\\n    \\'regresor__n_estimators\\': [50,100,150,200,250],\\n    \\'regresor__criterion\\': [\\'squared_error\\', \\'absolute_error\\', \\'friedman_mse\\', \\'poisson\\']\\n}\\n\\nSVR_param = {\\n    \\'reduce_dim\\': [SelectKBest(k=[4,5,6]),PCA()],\\n    \\'regresor\\': [SVR()],\\n    \\'regresor__C\\': [0.001, 0.1, 0.5, 1, 5, 10, 100],\\n    \\'regresor__kernel\\': [\\'linear\\', \\'poly\\', \\'rbf\\', \\'sigmoid\\', \\'precomputed\\']\\n}\\n\\nGBR_param = {\\n    \\'reduce_dim\\': [SelectKBest(k=[4,5,6]),PCA()],\\n    \\'regresor\\': [GradientBoostingRegressor()],\\n    \\'regresor__n_estimators\\': [50,100,150,200,250],\\n    \\'regresor__max_depth\\': [1,2,3,4],\\n    \\'regresor__criterion\\':[\\'friedman_mse\\', \\'squared_error\\'],\\n    \\'regresor__learning_rate\\': [0.1,0.2,0.3,0.5,0.7,0.9],\\n}\\n\\nsearch_space = [\\n    DTR_param,\\n    KNR_params,\\n    RFR_params,\\n    SVR_param,\\n    GBR_param\\n]\\n\\nmejor_regresor = GridSearchCV(estimator = pipe,\\n                  param_grid = search_space,\\n                  cv = 5,\\n                  n_jobs=1)\\n\\nmejor_regresor.fit(X_train_venta, y_train_venta)'"
      ]
     },
     "execution_count": 21,
     "metadata": {},
     "output_type": "execute_result"
    }
   ],
   "source": [
    "pipe = Pipeline(steps=\n",
    "                [(\"scaler\", StandardScaler()),\n",
    "                 (\"reduce_dim\", SelectKBest(k=6)),\n",
    "                 ('regresor', RandomForestRegressor())])\n",
    "\n",
    "DTR_param = {\n",
    "    'classifier': [DecisionTreeRegressor()],\n",
    "    'classifier__max_features': [1,2,3],\n",
    "    'classifier__max_depth': [3,4,5],\n",
    "    'classifier__criterion': ['squared_error', 'friedman_mse', 'absolute_error', 'poisson']\n",
    "}\n",
    "\n",
    "KNR_params = {\n",
    "    'reduce_dim': [SelectKBest(k=[4,5,6]),PCA()],\n",
    "    'regresor': [KNeighborsRegressor()],\n",
    "    'regresor__n_neighbors': [5,10,15,20,30,50,60,75,100,150]\n",
    "}\n",
    "\n",
    "RFR_params = {\n",
    "    'reduce_dim': [SelectKBest(k=[4,5,6]),PCA()],\n",
    "    'regresor': [RandomForestRegressor()],\n",
    "    'regresor__max_features': [1,2,3,4],\n",
    "    'regresor__max_depth': [1,2,3,4,5],\n",
    "    'regresor__n_estimators': [50,100,150,200,250],\n",
    "    'regresor__criterion': ['squared_error', 'absolute_error', 'friedman_mse', 'poisson']\n",
    "}\n",
    "\n",
    "SVR_param = {\n",
    "    'reduce_dim': [SelectKBest(k=[4,5,6]),PCA()],\n",
    "    'regresor': [SVR()],\n",
    "    'regresor__C': [0.001, 0.1, 0.5, 1, 5, 10, 100],\n",
    "    'regresor__kernel': ['linear', 'poly', 'rbf', 'sigmoid', 'precomputed']\n",
    "}\n",
    "\n",
    "GBR_param = {\n",
    "    'reduce_dim': [SelectKBest(k=[4,5,6]),PCA()],\n",
    "    'regresor': [GradientBoostingRegressor()],\n",
    "    'regresor__n_estimators': [50,100,150,200,250],\n",
    "    'regresor__max_depth': [1,2,3,4],\n",
    "    'regresor__criterion':['friedman_mse', 'squared_error'],\n",
    "    'regresor__learning_rate': [0.1,0.2,0.3,0.5,0.7,0.9],\n",
    "}\n",
    "\n",
    "search_space = [\n",
    "    DTR_param,\n",
    "    KNR_params,\n",
    "    RFR_params,\n",
    "    SVR_param,\n",
    "    GBR_param\n",
    "]\n",
    "\n",
    "mejor_regresor = GridSearchCV(estimator = pipe,\n",
    "                  param_grid = search_space,\n",
    "                  cv = 5,\n",
    "                  n_jobs=1)\n",
    "\n",
    "mejor_regresor.fit(X_train_venta, y_train_venta)"
   ]
  },
  {
   "cell_type": "code",
   "execution_count": 22,
   "metadata": {},
   "outputs": [],
   "source": [
    "# print(mejor_regresor.best_estimator_)\n",
    "# print(mejor_regresor.best_score_)\n",
    "# print(mejor_regresor.best_params_)"
   ]
  },
  {
   "cell_type": "code",
   "execution_count": 23,
   "metadata": {},
   "outputs": [],
   "source": [
    "#mejor_regresor.best_params_"
   ]
  },
  {
   "cell_type": "markdown",
   "metadata": {},
   "source": [
    "### Entrenamiento de cada regresor"
   ]
  },
  {
   "cell_type": "markdown",
   "metadata": {},
   "source": [
    "#### GradientBoostingRegressor"
   ]
  },
  {
   "cell_type": "markdown",
   "metadata": {},
   "source": [
    "En este caso, como el mejor regresor ha sido el GradientBoosting, éste será entrenado con toda mi dataframe completa para predecir nuevos inputs."
   ]
  },
  {
   "cell_type": "markdown",
   "metadata": {},
   "source": [
    "Busqueda de mejores parámetros y entrenamiento del modelo"
   ]
  },
  {
   "cell_type": "code",
   "execution_count": 24,
   "metadata": {},
   "outputs": [
    {
     "data": {
      "text/html": [
       "<style>#sk-container-id-1 {color: black;}#sk-container-id-1 pre{padding: 0;}#sk-container-id-1 div.sk-toggleable {background-color: white;}#sk-container-id-1 label.sk-toggleable__label {cursor: pointer;display: block;width: 100%;margin-bottom: 0;padding: 0.3em;box-sizing: border-box;text-align: center;}#sk-container-id-1 label.sk-toggleable__label-arrow:before {content: \"▸\";float: left;margin-right: 0.25em;color: #696969;}#sk-container-id-1 label.sk-toggleable__label-arrow:hover:before {color: black;}#sk-container-id-1 div.sk-estimator:hover label.sk-toggleable__label-arrow:before {color: black;}#sk-container-id-1 div.sk-toggleable__content {max-height: 0;max-width: 0;overflow: hidden;text-align: left;background-color: #f0f8ff;}#sk-container-id-1 div.sk-toggleable__content pre {margin: 0.2em;color: black;border-radius: 0.25em;background-color: #f0f8ff;}#sk-container-id-1 input.sk-toggleable__control:checked~div.sk-toggleable__content {max-height: 200px;max-width: 100%;overflow: auto;}#sk-container-id-1 input.sk-toggleable__control:checked~label.sk-toggleable__label-arrow:before {content: \"▾\";}#sk-container-id-1 div.sk-estimator input.sk-toggleable__control:checked~label.sk-toggleable__label {background-color: #d4ebff;}#sk-container-id-1 div.sk-label input.sk-toggleable__control:checked~label.sk-toggleable__label {background-color: #d4ebff;}#sk-container-id-1 input.sk-hidden--visually {border: 0;clip: rect(1px 1px 1px 1px);clip: rect(1px, 1px, 1px, 1px);height: 1px;margin: -1px;overflow: hidden;padding: 0;position: absolute;width: 1px;}#sk-container-id-1 div.sk-estimator {font-family: monospace;background-color: #f0f8ff;border: 1px dotted black;border-radius: 0.25em;box-sizing: border-box;margin-bottom: 0.5em;}#sk-container-id-1 div.sk-estimator:hover {background-color: #d4ebff;}#sk-container-id-1 div.sk-parallel-item::after {content: \"\";width: 100%;border-bottom: 1px solid gray;flex-grow: 1;}#sk-container-id-1 div.sk-label:hover label.sk-toggleable__label {background-color: #d4ebff;}#sk-container-id-1 div.sk-serial::before {content: \"\";position: absolute;border-left: 1px solid gray;box-sizing: border-box;top: 0;bottom: 0;left: 50%;z-index: 0;}#sk-container-id-1 div.sk-serial {display: flex;flex-direction: column;align-items: center;background-color: white;padding-right: 0.2em;padding-left: 0.2em;position: relative;}#sk-container-id-1 div.sk-item {position: relative;z-index: 1;}#sk-container-id-1 div.sk-parallel {display: flex;align-items: stretch;justify-content: center;background-color: white;position: relative;}#sk-container-id-1 div.sk-item::before, #sk-container-id-1 div.sk-parallel-item::before {content: \"\";position: absolute;border-left: 1px solid gray;box-sizing: border-box;top: 0;bottom: 0;left: 50%;z-index: -1;}#sk-container-id-1 div.sk-parallel-item {display: flex;flex-direction: column;z-index: 1;position: relative;background-color: white;}#sk-container-id-1 div.sk-parallel-item:first-child::after {align-self: flex-end;width: 50%;}#sk-container-id-1 div.sk-parallel-item:last-child::after {align-self: flex-start;width: 50%;}#sk-container-id-1 div.sk-parallel-item:only-child::after {width: 0;}#sk-container-id-1 div.sk-dashed-wrapped {border: 1px dashed gray;margin: 0 0.4em 0.5em 0.4em;box-sizing: border-box;padding-bottom: 0.4em;background-color: white;}#sk-container-id-1 div.sk-label label {font-family: monospace;font-weight: bold;display: inline-block;line-height: 1.2em;}#sk-container-id-1 div.sk-label-container {text-align: center;}#sk-container-id-1 div.sk-container {/* jupyter's `normalize.less` sets `[hidden] { display: none; }` but bootstrap.min.css set `[hidden] { display: none !important; }` so we also need the `!important` here to be able to override the default hidden behavior on the sphinx rendered scikit-learn.org. See: https://github.com/scikit-learn/scikit-learn/issues/21755 */display: inline-block !important;position: relative;}#sk-container-id-1 div.sk-text-repr-fallback {display: none;}</style><div id=\"sk-container-id-1\" class=\"sk-top-container\"><div class=\"sk-text-repr-fallback\"><pre>GridSearchCV(cv=10,\n",
       "             estimator=Pipeline(steps=[(&#x27;scaler&#x27;, StandardScaler()),\n",
       "                                       (&#x27;reduce_dim&#x27;, SelectKBest(k=5)),\n",
       "                                       (&#x27;regresor&#x27;, RandomForestRegressor())]),\n",
       "             param_grid=[{&#x27;reduce_dim&#x27;: [SelectKBest(k=[5, 6]),\n",
       "                                         PCA(n_components=5),\n",
       "                                         PCA(n_components=6)],\n",
       "                          &#x27;regresor&#x27;: [GradientBoostingRegressor()],\n",
       "                          &#x27;regresor__criterion&#x27;: [&#x27;friedman_mse&#x27;],\n",
       "                          &#x27;regresor__learning_rate&#x27;: [0.1],\n",
       "                          &#x27;regresor__max_depth&#x27;: [4],\n",
       "                          &#x27;regresor__n_estimators&#x27;: [200],\n",
       "                          &#x27;scaler&#x27;: [StandardScaler(), None]}],\n",
       "             scoring=&#x27;neg_mean_absolute_error&#x27;)</pre><b>In a Jupyter environment, please rerun this cell to show the HTML representation or trust the notebook. <br />On GitHub, the HTML representation is unable to render, please try loading this page with nbviewer.org.</b></div><div class=\"sk-container\" hidden><div class=\"sk-item sk-dashed-wrapped\"><div class=\"sk-label-container\"><div class=\"sk-label sk-toggleable\"><input class=\"sk-toggleable__control sk-hidden--visually\" id=\"sk-estimator-id-1\" type=\"checkbox\" ><label for=\"sk-estimator-id-1\" class=\"sk-toggleable__label sk-toggleable__label-arrow\">GridSearchCV</label><div class=\"sk-toggleable__content\"><pre>GridSearchCV(cv=10,\n",
       "             estimator=Pipeline(steps=[(&#x27;scaler&#x27;, StandardScaler()),\n",
       "                                       (&#x27;reduce_dim&#x27;, SelectKBest(k=5)),\n",
       "                                       (&#x27;regresor&#x27;, RandomForestRegressor())]),\n",
       "             param_grid=[{&#x27;reduce_dim&#x27;: [SelectKBest(k=[5, 6]),\n",
       "                                         PCA(n_components=5),\n",
       "                                         PCA(n_components=6)],\n",
       "                          &#x27;regresor&#x27;: [GradientBoostingRegressor()],\n",
       "                          &#x27;regresor__criterion&#x27;: [&#x27;friedman_mse&#x27;],\n",
       "                          &#x27;regresor__learning_rate&#x27;: [0.1],\n",
       "                          &#x27;regresor__max_depth&#x27;: [4],\n",
       "                          &#x27;regresor__n_estimators&#x27;: [200],\n",
       "                          &#x27;scaler&#x27;: [StandardScaler(), None]}],\n",
       "             scoring=&#x27;neg_mean_absolute_error&#x27;)</pre></div></div></div><div class=\"sk-parallel\"><div class=\"sk-parallel-item\"><div class=\"sk-item\"><div class=\"sk-label-container\"><div class=\"sk-label sk-toggleable\"><input class=\"sk-toggleable__control sk-hidden--visually\" id=\"sk-estimator-id-2\" type=\"checkbox\" ><label for=\"sk-estimator-id-2\" class=\"sk-toggleable__label sk-toggleable__label-arrow\">estimator: Pipeline</label><div class=\"sk-toggleable__content\"><pre>Pipeline(steps=[(&#x27;scaler&#x27;, StandardScaler()), (&#x27;reduce_dim&#x27;, SelectKBest(k=5)),\n",
       "                (&#x27;regresor&#x27;, RandomForestRegressor())])</pre></div></div></div><div class=\"sk-serial\"><div class=\"sk-item\"><div class=\"sk-serial\"><div class=\"sk-item\"><div class=\"sk-estimator sk-toggleable\"><input class=\"sk-toggleable__control sk-hidden--visually\" id=\"sk-estimator-id-3\" type=\"checkbox\" ><label for=\"sk-estimator-id-3\" class=\"sk-toggleable__label sk-toggleable__label-arrow\">StandardScaler</label><div class=\"sk-toggleable__content\"><pre>StandardScaler()</pre></div></div></div><div class=\"sk-item\"><div class=\"sk-estimator sk-toggleable\"><input class=\"sk-toggleable__control sk-hidden--visually\" id=\"sk-estimator-id-4\" type=\"checkbox\" ><label for=\"sk-estimator-id-4\" class=\"sk-toggleable__label sk-toggleable__label-arrow\">SelectKBest</label><div class=\"sk-toggleable__content\"><pre>SelectKBest(k=5)</pre></div></div></div><div class=\"sk-item\"><div class=\"sk-estimator sk-toggleable\"><input class=\"sk-toggleable__control sk-hidden--visually\" id=\"sk-estimator-id-5\" type=\"checkbox\" ><label for=\"sk-estimator-id-5\" class=\"sk-toggleable__label sk-toggleable__label-arrow\">RandomForestRegressor</label><div class=\"sk-toggleable__content\"><pre>RandomForestRegressor()</pre></div></div></div></div></div></div></div></div></div></div></div></div>"
      ],
      "text/plain": [
       "GridSearchCV(cv=10,\n",
       "             estimator=Pipeline(steps=[('scaler', StandardScaler()),\n",
       "                                       ('reduce_dim', SelectKBest(k=5)),\n",
       "                                       ('regresor', RandomForestRegressor())]),\n",
       "             param_grid=[{'reduce_dim': [SelectKBest(k=[5, 6]),\n",
       "                                         PCA(n_components=5),\n",
       "                                         PCA(n_components=6)],\n",
       "                          'regresor': [GradientBoostingRegressor()],\n",
       "                          'regresor__criterion': ['friedman_mse'],\n",
       "                          'regresor__learning_rate': [0.1],\n",
       "                          'regresor__max_depth': [4],\n",
       "                          'regresor__n_estimators': [200],\n",
       "                          'scaler': [StandardScaler(), None]}],\n",
       "             scoring='neg_mean_absolute_error')"
      ]
     },
     "execution_count": 24,
     "metadata": {},
     "output_type": "execute_result"
    }
   ],
   "source": [
    "pipe = Pipeline(steps=\n",
    "                [(\"scaler\", StandardScaler()),\n",
    "                 (\"reduce_dim\", SelectKBest(k=5)),\n",
    "                 ('regresor', RandomForestRegressor())])\n",
    "\n",
    "\n",
    "\n",
    "GBR_param = {\n",
    "    'scaler': [StandardScaler(),None],\n",
    "    'reduce_dim': [SelectKBest(k=[5,6]),PCA(n_components=5),PCA(n_components=6)],\n",
    "    'regresor': [GradientBoostingRegressor()],\n",
    "    'regresor__n_estimators': [200],\n",
    "    'regresor__max_depth': [4],\n",
    "    'regresor__criterion':['friedman_mse'],\n",
    "    'regresor__learning_rate': [0.1],\n",
    "}\n",
    "\n",
    "search_space = [\n",
    " \n",
    "    GBR_param\n",
    "]\n",
    "\n",
    "Modelo_GBR = GridSearchCV(estimator = pipe,\n",
    "                  param_grid = search_space,\n",
    "                  scoring='neg_mean_absolute_error',\n",
    "                  cv = 10)\n",
    "\n",
    "Modelo_GBR.fit(X_train_venta, y_train_venta)"
   ]
  },
  {
   "cell_type": "code",
   "execution_count": 25,
   "metadata": {},
   "outputs": [
    {
     "name": "stdout",
     "output_type": "stream",
     "text": [
      "Pipeline(steps=[('scaler', None), ('reduce_dim', PCA(n_components=6)),\n",
      "                ('regresor',\n",
      "                 GradientBoostingRegressor(max_depth=4, n_estimators=200))])\n",
      "-60294.7655617923\n",
      "{'reduce_dim': PCA(n_components=6), 'regresor': GradientBoostingRegressor(), 'regresor__criterion': 'friedman_mse', 'regresor__learning_rate': 0.1, 'regresor__max_depth': 4, 'regresor__n_estimators': 200, 'scaler': None}\n"
     ]
    }
   ],
   "source": [
    "print(Modelo_GBR.best_estimator_)\n",
    "print(Modelo_GBR.best_score_)\n",
    "print(Modelo_GBR.best_params_)"
   ]
  },
  {
   "cell_type": "markdown",
   "metadata": {},
   "source": [
    "Evaluación del modelo"
   ]
  },
  {
   "cell_type": "code",
   "execution_count": 26,
   "metadata": {},
   "outputs": [],
   "source": [
    "prediction = Modelo_GBR.best_estimator_.predict(X_test_venta)"
   ]
  },
  {
   "cell_type": "code",
   "execution_count": 27,
   "metadata": {},
   "outputs": [
    {
     "name": "stdout",
     "output_type": "stream",
     "text": [
      "MAE: 52323.585900074104\n",
      "MAPE: 0.21782115597814725\n",
      "RMSE: 112136.03486292533\n"
     ]
    }
   ],
   "source": [
    "print('MAE:', mean_absolute_error(y_test_venta,prediction))\n",
    "print('MAPE:', mean_absolute_percentage_error(y_test_venta,prediction))\n",
    "print('RMSE:', np.sqrt(mean_squared_error(y_test_venta,prediction)))\n"
   ]
  },
  {
   "cell_type": "markdown",
   "metadata": {},
   "source": [
    "Exportación del modelo"
   ]
  },
  {
   "cell_type": "code",
   "execution_count": 28,
   "metadata": {},
   "outputs": [],
   "source": [
    "modelo_GBR = Modelo_GBR.best_estimator_"
   ]
  },
  {
   "cell_type": "code",
   "execution_count": 29,
   "metadata": {},
   "outputs": [
    {
     "data": {
      "text/plain": [
       "'c:\\\\Carpeta bootcamp\\\\proyecto_ML_alquiler\\\\notebooks'"
      ]
     },
     "execution_count": 29,
     "metadata": {},
     "output_type": "execute_result"
    }
   ],
   "source": [
    "directorio_actual"
   ]
  },
  {
   "cell_type": "code",
   "execution_count": 30,
   "metadata": {},
   "outputs": [],
   "source": [
    "with open(os.path.join(directorio_actual, '..', 'models','modelo_GBR_venta.pkl'), 'wb') as file:\n",
    "    pickle.dump(modelo_GBR, file)"
   ]
  },
  {
   "cell_type": "code",
   "execution_count": 31,
   "metadata": {},
   "outputs": [],
   "source": [
    "with open(os.path.join(directorio_actual, '..', 'models','modelo_GBR_venta.yaml'), 'w') as file:\n",
    "    yaml.dump(Modelo_GBR.best_params_, file, default_flow_style=False)"
   ]
  },
  {
   "cell_type": "markdown",
   "metadata": {},
   "source": [
    "Entrenamiento completo"
   ]
  },
  {
   "cell_type": "code",
   "execution_count": 32,
   "metadata": {},
   "outputs": [],
   "source": [
    "modelo_final_GBR = Modelo_GBR.best_estimator_.fit(X_venta, y_venta)"
   ]
  },
  {
   "cell_type": "markdown",
   "metadata": {},
   "source": [
    "Exportación del modelo definitivo"
   ]
  },
  {
   "cell_type": "code",
   "execution_count": 33,
   "metadata": {},
   "outputs": [],
   "source": [
    "with open(os.path.join(directorio_actual, '..', 'models','modelo_final_GBR_venta.pkl'), 'wb') as file:\n",
    "    pickle.dump(modelo_final_GBR, file)"
   ]
  },
  {
   "cell_type": "markdown",
   "metadata": {},
   "source": [
    "#### DecisionTreeRegressor"
   ]
  },
  {
   "cell_type": "markdown",
   "metadata": {},
   "source": [
    "Busqueda de mejores parámetros y entrenamiento del modelo"
   ]
  },
  {
   "cell_type": "code",
   "execution_count": 34,
   "metadata": {},
   "outputs": [
    {
     "data": {
      "text/html": [
       "<style>#sk-container-id-2 {color: black;}#sk-container-id-2 pre{padding: 0;}#sk-container-id-2 div.sk-toggleable {background-color: white;}#sk-container-id-2 label.sk-toggleable__label {cursor: pointer;display: block;width: 100%;margin-bottom: 0;padding: 0.3em;box-sizing: border-box;text-align: center;}#sk-container-id-2 label.sk-toggleable__label-arrow:before {content: \"▸\";float: left;margin-right: 0.25em;color: #696969;}#sk-container-id-2 label.sk-toggleable__label-arrow:hover:before {color: black;}#sk-container-id-2 div.sk-estimator:hover label.sk-toggleable__label-arrow:before {color: black;}#sk-container-id-2 div.sk-toggleable__content {max-height: 0;max-width: 0;overflow: hidden;text-align: left;background-color: #f0f8ff;}#sk-container-id-2 div.sk-toggleable__content pre {margin: 0.2em;color: black;border-radius: 0.25em;background-color: #f0f8ff;}#sk-container-id-2 input.sk-toggleable__control:checked~div.sk-toggleable__content {max-height: 200px;max-width: 100%;overflow: auto;}#sk-container-id-2 input.sk-toggleable__control:checked~label.sk-toggleable__label-arrow:before {content: \"▾\";}#sk-container-id-2 div.sk-estimator input.sk-toggleable__control:checked~label.sk-toggleable__label {background-color: #d4ebff;}#sk-container-id-2 div.sk-label input.sk-toggleable__control:checked~label.sk-toggleable__label {background-color: #d4ebff;}#sk-container-id-2 input.sk-hidden--visually {border: 0;clip: rect(1px 1px 1px 1px);clip: rect(1px, 1px, 1px, 1px);height: 1px;margin: -1px;overflow: hidden;padding: 0;position: absolute;width: 1px;}#sk-container-id-2 div.sk-estimator {font-family: monospace;background-color: #f0f8ff;border: 1px dotted black;border-radius: 0.25em;box-sizing: border-box;margin-bottom: 0.5em;}#sk-container-id-2 div.sk-estimator:hover {background-color: #d4ebff;}#sk-container-id-2 div.sk-parallel-item::after {content: \"\";width: 100%;border-bottom: 1px solid gray;flex-grow: 1;}#sk-container-id-2 div.sk-label:hover label.sk-toggleable__label {background-color: #d4ebff;}#sk-container-id-2 div.sk-serial::before {content: \"\";position: absolute;border-left: 1px solid gray;box-sizing: border-box;top: 0;bottom: 0;left: 50%;z-index: 0;}#sk-container-id-2 div.sk-serial {display: flex;flex-direction: column;align-items: center;background-color: white;padding-right: 0.2em;padding-left: 0.2em;position: relative;}#sk-container-id-2 div.sk-item {position: relative;z-index: 1;}#sk-container-id-2 div.sk-parallel {display: flex;align-items: stretch;justify-content: center;background-color: white;position: relative;}#sk-container-id-2 div.sk-item::before, #sk-container-id-2 div.sk-parallel-item::before {content: \"\";position: absolute;border-left: 1px solid gray;box-sizing: border-box;top: 0;bottom: 0;left: 50%;z-index: -1;}#sk-container-id-2 div.sk-parallel-item {display: flex;flex-direction: column;z-index: 1;position: relative;background-color: white;}#sk-container-id-2 div.sk-parallel-item:first-child::after {align-self: flex-end;width: 50%;}#sk-container-id-2 div.sk-parallel-item:last-child::after {align-self: flex-start;width: 50%;}#sk-container-id-2 div.sk-parallel-item:only-child::after {width: 0;}#sk-container-id-2 div.sk-dashed-wrapped {border: 1px dashed gray;margin: 0 0.4em 0.5em 0.4em;box-sizing: border-box;padding-bottom: 0.4em;background-color: white;}#sk-container-id-2 div.sk-label label {font-family: monospace;font-weight: bold;display: inline-block;line-height: 1.2em;}#sk-container-id-2 div.sk-label-container {text-align: center;}#sk-container-id-2 div.sk-container {/* jupyter's `normalize.less` sets `[hidden] { display: none; }` but bootstrap.min.css set `[hidden] { display: none !important; }` so we also need the `!important` here to be able to override the default hidden behavior on the sphinx rendered scikit-learn.org. See: https://github.com/scikit-learn/scikit-learn/issues/21755 */display: inline-block !important;position: relative;}#sk-container-id-2 div.sk-text-repr-fallback {display: none;}</style><div id=\"sk-container-id-2\" class=\"sk-top-container\"><div class=\"sk-text-repr-fallback\"><pre>GridSearchCV(cv=10,\n",
       "             estimator=Pipeline(steps=[(&#x27;scaler&#x27;, StandardScaler()),\n",
       "                                       (&#x27;reduce_dim&#x27;, SelectKBest(k=5)),\n",
       "                                       (&#x27;regresor&#x27;, RandomForestRegressor())]),\n",
       "             param_grid=[{&#x27;regresor&#x27;: [DecisionTreeRegressor()],\n",
       "                          &#x27;regresor__criterion&#x27;: [&#x27;squared_error&#x27;,\n",
       "                                                  &#x27;friedman_mse&#x27;,\n",
       "                                                  &#x27;absolute_error&#x27;, &#x27;poisson&#x27;],\n",
       "                          &#x27;regresor__max_depth&#x27;: [3, 4, 5],\n",
       "                          &#x27;regresor__max_features&#x27;: [1, 2, 3]}],\n",
       "             scoring=&#x27;neg_mean_absolute_error&#x27;)</pre><b>In a Jupyter environment, please rerun this cell to show the HTML representation or trust the notebook. <br />On GitHub, the HTML representation is unable to render, please try loading this page with nbviewer.org.</b></div><div class=\"sk-container\" hidden><div class=\"sk-item sk-dashed-wrapped\"><div class=\"sk-label-container\"><div class=\"sk-label sk-toggleable\"><input class=\"sk-toggleable__control sk-hidden--visually\" id=\"sk-estimator-id-6\" type=\"checkbox\" ><label for=\"sk-estimator-id-6\" class=\"sk-toggleable__label sk-toggleable__label-arrow\">GridSearchCV</label><div class=\"sk-toggleable__content\"><pre>GridSearchCV(cv=10,\n",
       "             estimator=Pipeline(steps=[(&#x27;scaler&#x27;, StandardScaler()),\n",
       "                                       (&#x27;reduce_dim&#x27;, SelectKBest(k=5)),\n",
       "                                       (&#x27;regresor&#x27;, RandomForestRegressor())]),\n",
       "             param_grid=[{&#x27;regresor&#x27;: [DecisionTreeRegressor()],\n",
       "                          &#x27;regresor__criterion&#x27;: [&#x27;squared_error&#x27;,\n",
       "                                                  &#x27;friedman_mse&#x27;,\n",
       "                                                  &#x27;absolute_error&#x27;, &#x27;poisson&#x27;],\n",
       "                          &#x27;regresor__max_depth&#x27;: [3, 4, 5],\n",
       "                          &#x27;regresor__max_features&#x27;: [1, 2, 3]}],\n",
       "             scoring=&#x27;neg_mean_absolute_error&#x27;)</pre></div></div></div><div class=\"sk-parallel\"><div class=\"sk-parallel-item\"><div class=\"sk-item\"><div class=\"sk-label-container\"><div class=\"sk-label sk-toggleable\"><input class=\"sk-toggleable__control sk-hidden--visually\" id=\"sk-estimator-id-7\" type=\"checkbox\" ><label for=\"sk-estimator-id-7\" class=\"sk-toggleable__label sk-toggleable__label-arrow\">estimator: Pipeline</label><div class=\"sk-toggleable__content\"><pre>Pipeline(steps=[(&#x27;scaler&#x27;, StandardScaler()), (&#x27;reduce_dim&#x27;, SelectKBest(k=5)),\n",
       "                (&#x27;regresor&#x27;, RandomForestRegressor())])</pre></div></div></div><div class=\"sk-serial\"><div class=\"sk-item\"><div class=\"sk-serial\"><div class=\"sk-item\"><div class=\"sk-estimator sk-toggleable\"><input class=\"sk-toggleable__control sk-hidden--visually\" id=\"sk-estimator-id-8\" type=\"checkbox\" ><label for=\"sk-estimator-id-8\" class=\"sk-toggleable__label sk-toggleable__label-arrow\">StandardScaler</label><div class=\"sk-toggleable__content\"><pre>StandardScaler()</pre></div></div></div><div class=\"sk-item\"><div class=\"sk-estimator sk-toggleable\"><input class=\"sk-toggleable__control sk-hidden--visually\" id=\"sk-estimator-id-9\" type=\"checkbox\" ><label for=\"sk-estimator-id-9\" class=\"sk-toggleable__label sk-toggleable__label-arrow\">SelectKBest</label><div class=\"sk-toggleable__content\"><pre>SelectKBest(k=5)</pre></div></div></div><div class=\"sk-item\"><div class=\"sk-estimator sk-toggleable\"><input class=\"sk-toggleable__control sk-hidden--visually\" id=\"sk-estimator-id-10\" type=\"checkbox\" ><label for=\"sk-estimator-id-10\" class=\"sk-toggleable__label sk-toggleable__label-arrow\">RandomForestRegressor</label><div class=\"sk-toggleable__content\"><pre>RandomForestRegressor()</pre></div></div></div></div></div></div></div></div></div></div></div></div>"
      ],
      "text/plain": [
       "GridSearchCV(cv=10,\n",
       "             estimator=Pipeline(steps=[('scaler', StandardScaler()),\n",
       "                                       ('reduce_dim', SelectKBest(k=5)),\n",
       "                                       ('regresor', RandomForestRegressor())]),\n",
       "             param_grid=[{'regresor': [DecisionTreeRegressor()],\n",
       "                          'regresor__criterion': ['squared_error',\n",
       "                                                  'friedman_mse',\n",
       "                                                  'absolute_error', 'poisson'],\n",
       "                          'regresor__max_depth': [3, 4, 5],\n",
       "                          'regresor__max_features': [1, 2, 3]}],\n",
       "             scoring='neg_mean_absolute_error')"
      ]
     },
     "execution_count": 34,
     "metadata": {},
     "output_type": "execute_result"
    }
   ],
   "source": [
    "pipe = Pipeline(steps=\n",
    "                [(\"scaler\", StandardScaler()),\n",
    "                 (\"reduce_dim\", SelectKBest(k=5)),\n",
    "                 ('regresor', RandomForestRegressor())])\n",
    "\n",
    "\n",
    "\n",
    "DTR_param = {\n",
    "    'regresor': [DecisionTreeRegressor()],\n",
    "    'regresor__max_features': [1,2,3],\n",
    "    'regresor__max_depth': [3,4,5],\n",
    "    'regresor__criterion': ['squared_error', 'friedman_mse', 'absolute_error', 'poisson']\n",
    "}\n",
    "\n",
    "search_space = [\n",
    " \n",
    "    DTR_param\n",
    "]\n",
    "\n",
    "Modelo_DTR = GridSearchCV(estimator = pipe,\n",
    "                  param_grid = search_space,\n",
    "                  scoring='neg_mean_absolute_error',\n",
    "                  cv = 10)\n",
    "\n",
    "Modelo_DTR.fit(X_train_venta, y_train_venta)"
   ]
  },
  {
   "cell_type": "markdown",
   "metadata": {},
   "source": [
    "Evaluación del modelo"
   ]
  },
  {
   "cell_type": "code",
   "execution_count": 35,
   "metadata": {},
   "outputs": [
    {
     "name": "stdout",
     "output_type": "stream",
     "text": [
      "MAE: 72566.66431914599\n",
      "MAPE: 0.2859288192249537\n",
      "RMSE: 171864.57534737847\n"
     ]
    }
   ],
   "source": [
    "prediction_DTR = Modelo_DTR.best_estimator_.predict(X_test_venta)\n",
    "print('MAE:', mean_absolute_error(y_test_venta,prediction_DTR))\n",
    "print('MAPE:', mean_absolute_percentage_error(y_test_venta,prediction_DTR))\n",
    "print('RMSE:', np.sqrt(mean_squared_error(y_test_venta,prediction_DTR)))"
   ]
  },
  {
   "cell_type": "markdown",
   "metadata": {},
   "source": [
    "Exportación del modelo"
   ]
  },
  {
   "cell_type": "code",
   "execution_count": 36,
   "metadata": {},
   "outputs": [],
   "source": [
    "modelo_final_DTR = Modelo_DTR.best_estimator_"
   ]
  },
  {
   "cell_type": "code",
   "execution_count": 37,
   "metadata": {},
   "outputs": [],
   "source": [
    "with open(os.path.join(directorio_actual, '..', 'models','modelo_final_DTR_venta.pkl'), 'wb') as file:\n",
    "    pickle.dump(modelo_final_DTR, file)"
   ]
  },
  {
   "cell_type": "code",
   "execution_count": 38,
   "metadata": {},
   "outputs": [],
   "source": [
    "with open(os.path.join(directorio_actual, '..', 'models','modelo_final_DTR_venta.yaml'), 'w') as file:\n",
    "    yaml.dump(Modelo_DTR.best_params_, file, default_flow_style=False)"
   ]
  },
  {
   "cell_type": "markdown",
   "metadata": {},
   "source": [
    "#### SVR"
   ]
  },
  {
   "cell_type": "markdown",
   "metadata": {},
   "source": [
    "Busqueda de mejores parámetros y entrenamiento del modelo"
   ]
  },
  {
   "cell_type": "code",
   "execution_count": 39,
   "metadata": {},
   "outputs": [
    {
     "data": {
      "text/html": [
       "<style>#sk-container-id-3 {color: black;}#sk-container-id-3 pre{padding: 0;}#sk-container-id-3 div.sk-toggleable {background-color: white;}#sk-container-id-3 label.sk-toggleable__label {cursor: pointer;display: block;width: 100%;margin-bottom: 0;padding: 0.3em;box-sizing: border-box;text-align: center;}#sk-container-id-3 label.sk-toggleable__label-arrow:before {content: \"▸\";float: left;margin-right: 0.25em;color: #696969;}#sk-container-id-3 label.sk-toggleable__label-arrow:hover:before {color: black;}#sk-container-id-3 div.sk-estimator:hover label.sk-toggleable__label-arrow:before {color: black;}#sk-container-id-3 div.sk-toggleable__content {max-height: 0;max-width: 0;overflow: hidden;text-align: left;background-color: #f0f8ff;}#sk-container-id-3 div.sk-toggleable__content pre {margin: 0.2em;color: black;border-radius: 0.25em;background-color: #f0f8ff;}#sk-container-id-3 input.sk-toggleable__control:checked~div.sk-toggleable__content {max-height: 200px;max-width: 100%;overflow: auto;}#sk-container-id-3 input.sk-toggleable__control:checked~label.sk-toggleable__label-arrow:before {content: \"▾\";}#sk-container-id-3 div.sk-estimator input.sk-toggleable__control:checked~label.sk-toggleable__label {background-color: #d4ebff;}#sk-container-id-3 div.sk-label input.sk-toggleable__control:checked~label.sk-toggleable__label {background-color: #d4ebff;}#sk-container-id-3 input.sk-hidden--visually {border: 0;clip: rect(1px 1px 1px 1px);clip: rect(1px, 1px, 1px, 1px);height: 1px;margin: -1px;overflow: hidden;padding: 0;position: absolute;width: 1px;}#sk-container-id-3 div.sk-estimator {font-family: monospace;background-color: #f0f8ff;border: 1px dotted black;border-radius: 0.25em;box-sizing: border-box;margin-bottom: 0.5em;}#sk-container-id-3 div.sk-estimator:hover {background-color: #d4ebff;}#sk-container-id-3 div.sk-parallel-item::after {content: \"\";width: 100%;border-bottom: 1px solid gray;flex-grow: 1;}#sk-container-id-3 div.sk-label:hover label.sk-toggleable__label {background-color: #d4ebff;}#sk-container-id-3 div.sk-serial::before {content: \"\";position: absolute;border-left: 1px solid gray;box-sizing: border-box;top: 0;bottom: 0;left: 50%;z-index: 0;}#sk-container-id-3 div.sk-serial {display: flex;flex-direction: column;align-items: center;background-color: white;padding-right: 0.2em;padding-left: 0.2em;position: relative;}#sk-container-id-3 div.sk-item {position: relative;z-index: 1;}#sk-container-id-3 div.sk-parallel {display: flex;align-items: stretch;justify-content: center;background-color: white;position: relative;}#sk-container-id-3 div.sk-item::before, #sk-container-id-3 div.sk-parallel-item::before {content: \"\";position: absolute;border-left: 1px solid gray;box-sizing: border-box;top: 0;bottom: 0;left: 50%;z-index: -1;}#sk-container-id-3 div.sk-parallel-item {display: flex;flex-direction: column;z-index: 1;position: relative;background-color: white;}#sk-container-id-3 div.sk-parallel-item:first-child::after {align-self: flex-end;width: 50%;}#sk-container-id-3 div.sk-parallel-item:last-child::after {align-self: flex-start;width: 50%;}#sk-container-id-3 div.sk-parallel-item:only-child::after {width: 0;}#sk-container-id-3 div.sk-dashed-wrapped {border: 1px dashed gray;margin: 0 0.4em 0.5em 0.4em;box-sizing: border-box;padding-bottom: 0.4em;background-color: white;}#sk-container-id-3 div.sk-label label {font-family: monospace;font-weight: bold;display: inline-block;line-height: 1.2em;}#sk-container-id-3 div.sk-label-container {text-align: center;}#sk-container-id-3 div.sk-container {/* jupyter's `normalize.less` sets `[hidden] { display: none; }` but bootstrap.min.css set `[hidden] { display: none !important; }` so we also need the `!important` here to be able to override the default hidden behavior on the sphinx rendered scikit-learn.org. See: https://github.com/scikit-learn/scikit-learn/issues/21755 */display: inline-block !important;position: relative;}#sk-container-id-3 div.sk-text-repr-fallback {display: none;}</style><div id=\"sk-container-id-3\" class=\"sk-top-container\"><div class=\"sk-text-repr-fallback\"><pre>GridSearchCV(cv=10,\n",
       "             estimator=Pipeline(steps=[(&#x27;scaler&#x27;, StandardScaler()),\n",
       "                                       (&#x27;reduce_dim&#x27;, SelectKBest(k=5)),\n",
       "                                       (&#x27;regresor&#x27;, RandomForestRegressor())]),\n",
       "             param_grid=[{&#x27;reduce_dim&#x27;: [SelectKBest(k=[2, 3, 4, 5]), PCA()],\n",
       "                          &#x27;regresor&#x27;: [SVR()],\n",
       "                          &#x27;regresor__C&#x27;: [0.001, 0.1, 0.5, 1, 5, 10, 100],\n",
       "                          &#x27;regresor__kernel&#x27;: [&#x27;linear&#x27;, &#x27;poly&#x27;, &#x27;rbf&#x27;,\n",
       "                                               &#x27;sigmoid&#x27;, &#x27;precomputed&#x27;]}],\n",
       "             scoring=&#x27;neg_mean_absolute_error&#x27;)</pre><b>In a Jupyter environment, please rerun this cell to show the HTML representation or trust the notebook. <br />On GitHub, the HTML representation is unable to render, please try loading this page with nbviewer.org.</b></div><div class=\"sk-container\" hidden><div class=\"sk-item sk-dashed-wrapped\"><div class=\"sk-label-container\"><div class=\"sk-label sk-toggleable\"><input class=\"sk-toggleable__control sk-hidden--visually\" id=\"sk-estimator-id-11\" type=\"checkbox\" ><label for=\"sk-estimator-id-11\" class=\"sk-toggleable__label sk-toggleable__label-arrow\">GridSearchCV</label><div class=\"sk-toggleable__content\"><pre>GridSearchCV(cv=10,\n",
       "             estimator=Pipeline(steps=[(&#x27;scaler&#x27;, StandardScaler()),\n",
       "                                       (&#x27;reduce_dim&#x27;, SelectKBest(k=5)),\n",
       "                                       (&#x27;regresor&#x27;, RandomForestRegressor())]),\n",
       "             param_grid=[{&#x27;reduce_dim&#x27;: [SelectKBest(k=[2, 3, 4, 5]), PCA()],\n",
       "                          &#x27;regresor&#x27;: [SVR()],\n",
       "                          &#x27;regresor__C&#x27;: [0.001, 0.1, 0.5, 1, 5, 10, 100],\n",
       "                          &#x27;regresor__kernel&#x27;: [&#x27;linear&#x27;, &#x27;poly&#x27;, &#x27;rbf&#x27;,\n",
       "                                               &#x27;sigmoid&#x27;, &#x27;precomputed&#x27;]}],\n",
       "             scoring=&#x27;neg_mean_absolute_error&#x27;)</pre></div></div></div><div class=\"sk-parallel\"><div class=\"sk-parallel-item\"><div class=\"sk-item\"><div class=\"sk-label-container\"><div class=\"sk-label sk-toggleable\"><input class=\"sk-toggleable__control sk-hidden--visually\" id=\"sk-estimator-id-12\" type=\"checkbox\" ><label for=\"sk-estimator-id-12\" class=\"sk-toggleable__label sk-toggleable__label-arrow\">estimator: Pipeline</label><div class=\"sk-toggleable__content\"><pre>Pipeline(steps=[(&#x27;scaler&#x27;, StandardScaler()), (&#x27;reduce_dim&#x27;, SelectKBest(k=5)),\n",
       "                (&#x27;regresor&#x27;, RandomForestRegressor())])</pre></div></div></div><div class=\"sk-serial\"><div class=\"sk-item\"><div class=\"sk-serial\"><div class=\"sk-item\"><div class=\"sk-estimator sk-toggleable\"><input class=\"sk-toggleable__control sk-hidden--visually\" id=\"sk-estimator-id-13\" type=\"checkbox\" ><label for=\"sk-estimator-id-13\" class=\"sk-toggleable__label sk-toggleable__label-arrow\">StandardScaler</label><div class=\"sk-toggleable__content\"><pre>StandardScaler()</pre></div></div></div><div class=\"sk-item\"><div class=\"sk-estimator sk-toggleable\"><input class=\"sk-toggleable__control sk-hidden--visually\" id=\"sk-estimator-id-14\" type=\"checkbox\" ><label for=\"sk-estimator-id-14\" class=\"sk-toggleable__label sk-toggleable__label-arrow\">SelectKBest</label><div class=\"sk-toggleable__content\"><pre>SelectKBest(k=5)</pre></div></div></div><div class=\"sk-item\"><div class=\"sk-estimator sk-toggleable\"><input class=\"sk-toggleable__control sk-hidden--visually\" id=\"sk-estimator-id-15\" type=\"checkbox\" ><label for=\"sk-estimator-id-15\" class=\"sk-toggleable__label sk-toggleable__label-arrow\">RandomForestRegressor</label><div class=\"sk-toggleable__content\"><pre>RandomForestRegressor()</pre></div></div></div></div></div></div></div></div></div></div></div></div>"
      ],
      "text/plain": [
       "GridSearchCV(cv=10,\n",
       "             estimator=Pipeline(steps=[('scaler', StandardScaler()),\n",
       "                                       ('reduce_dim', SelectKBest(k=5)),\n",
       "                                       ('regresor', RandomForestRegressor())]),\n",
       "             param_grid=[{'reduce_dim': [SelectKBest(k=[2, 3, 4, 5]), PCA()],\n",
       "                          'regresor': [SVR()],\n",
       "                          'regresor__C': [0.001, 0.1, 0.5, 1, 5, 10, 100],\n",
       "                          'regresor__kernel': ['linear', 'poly', 'rbf',\n",
       "                                               'sigmoid', 'precomputed']}],\n",
       "             scoring='neg_mean_absolute_error')"
      ]
     },
     "execution_count": 39,
     "metadata": {},
     "output_type": "execute_result"
    }
   ],
   "source": [
    "pipe = Pipeline(steps=\n",
    "                [(\"scaler\", StandardScaler()),\n",
    "                 (\"reduce_dim\", SelectKBest(k=5)),\n",
    "                 ('regresor', RandomForestRegressor())])\n",
    "\n",
    "\n",
    "\n",
    "SVR_param = {\n",
    "    'reduce_dim': [SelectKBest(k=[2,3,4,5]),PCA()],\n",
    "    'regresor': [SVR()],\n",
    "    'regresor__C': [0.001, 0.1, 0.5, 1, 5, 10, 100],\n",
    "    'regresor__kernel': ['linear', 'poly', 'rbf', 'sigmoid', 'precomputed']\n",
    "}\n",
    "\n",
    "search_space = [\n",
    " \n",
    "    SVR_param\n",
    "]\n",
    "\n",
    "Modelo_SVR = GridSearchCV(estimator = pipe,\n",
    "                  param_grid = search_space,\n",
    "                  scoring='neg_mean_absolute_error',\n",
    "                  cv = 10)\n",
    "\n",
    "Modelo_SVR.fit(X_train_venta, y_train_venta)"
   ]
  },
  {
   "cell_type": "markdown",
   "metadata": {},
   "source": [
    "Evaluación del modelo"
   ]
  },
  {
   "cell_type": "code",
   "execution_count": 40,
   "metadata": {},
   "outputs": [
    {
     "name": "stdout",
     "output_type": "stream",
     "text": [
      "MAE: 82393.53935809557\n",
      "MAPE: 0.31604771322795877\n",
      "RMSE: 196879.17622953467\n"
     ]
    }
   ],
   "source": [
    "prediction_SVR = Modelo_SVR.best_estimator_.predict(X_test_venta)\n",
    "print('MAE:', mean_absolute_error(y_test_venta,prediction_SVR))\n",
    "print('MAPE:', mean_absolute_percentage_error(y_test_venta,prediction_SVR))\n",
    "print('RMSE:', np.sqrt(mean_squared_error(y_test_venta,prediction_SVR)))"
   ]
  },
  {
   "cell_type": "markdown",
   "metadata": {},
   "source": [
    "Exportación del modelo"
   ]
  },
  {
   "cell_type": "code",
   "execution_count": 41,
   "metadata": {},
   "outputs": [],
   "source": [
    "modelo_final_SVR = Modelo_SVR.best_estimator_"
   ]
  },
  {
   "cell_type": "code",
   "execution_count": 42,
   "metadata": {},
   "outputs": [],
   "source": [
    "with open(os.path.join(directorio_actual, '..', 'models','modelo_final_SVR_venta.pkl'), 'wb') as file:\n",
    "    pickle.dump(modelo_final_SVR, file)"
   ]
  },
  {
   "cell_type": "code",
   "execution_count": 43,
   "metadata": {},
   "outputs": [],
   "source": [
    "with open(os.path.join(directorio_actual, '..', 'models','modelo_final_SVR_venta.yaml'), 'w') as file:\n",
    "    yaml.dump(Modelo_SVR.best_params_, file, default_flow_style=False)"
   ]
  },
  {
   "cell_type": "markdown",
   "metadata": {},
   "source": [
    "#### KNeighborsRegressor"
   ]
  },
  {
   "cell_type": "markdown",
   "metadata": {},
   "source": [
    "Busqueda de mejores parámetros y entrenamiento del modelo"
   ]
  },
  {
   "cell_type": "code",
   "execution_count": 44,
   "metadata": {},
   "outputs": [
    {
     "data": {
      "text/html": [
       "<style>#sk-container-id-4 {color: black;}#sk-container-id-4 pre{padding: 0;}#sk-container-id-4 div.sk-toggleable {background-color: white;}#sk-container-id-4 label.sk-toggleable__label {cursor: pointer;display: block;width: 100%;margin-bottom: 0;padding: 0.3em;box-sizing: border-box;text-align: center;}#sk-container-id-4 label.sk-toggleable__label-arrow:before {content: \"▸\";float: left;margin-right: 0.25em;color: #696969;}#sk-container-id-4 label.sk-toggleable__label-arrow:hover:before {color: black;}#sk-container-id-4 div.sk-estimator:hover label.sk-toggleable__label-arrow:before {color: black;}#sk-container-id-4 div.sk-toggleable__content {max-height: 0;max-width: 0;overflow: hidden;text-align: left;background-color: #f0f8ff;}#sk-container-id-4 div.sk-toggleable__content pre {margin: 0.2em;color: black;border-radius: 0.25em;background-color: #f0f8ff;}#sk-container-id-4 input.sk-toggleable__control:checked~div.sk-toggleable__content {max-height: 200px;max-width: 100%;overflow: auto;}#sk-container-id-4 input.sk-toggleable__control:checked~label.sk-toggleable__label-arrow:before {content: \"▾\";}#sk-container-id-4 div.sk-estimator input.sk-toggleable__control:checked~label.sk-toggleable__label {background-color: #d4ebff;}#sk-container-id-4 div.sk-label input.sk-toggleable__control:checked~label.sk-toggleable__label {background-color: #d4ebff;}#sk-container-id-4 input.sk-hidden--visually {border: 0;clip: rect(1px 1px 1px 1px);clip: rect(1px, 1px, 1px, 1px);height: 1px;margin: -1px;overflow: hidden;padding: 0;position: absolute;width: 1px;}#sk-container-id-4 div.sk-estimator {font-family: monospace;background-color: #f0f8ff;border: 1px dotted black;border-radius: 0.25em;box-sizing: border-box;margin-bottom: 0.5em;}#sk-container-id-4 div.sk-estimator:hover {background-color: #d4ebff;}#sk-container-id-4 div.sk-parallel-item::after {content: \"\";width: 100%;border-bottom: 1px solid gray;flex-grow: 1;}#sk-container-id-4 div.sk-label:hover label.sk-toggleable__label {background-color: #d4ebff;}#sk-container-id-4 div.sk-serial::before {content: \"\";position: absolute;border-left: 1px solid gray;box-sizing: border-box;top: 0;bottom: 0;left: 50%;z-index: 0;}#sk-container-id-4 div.sk-serial {display: flex;flex-direction: column;align-items: center;background-color: white;padding-right: 0.2em;padding-left: 0.2em;position: relative;}#sk-container-id-4 div.sk-item {position: relative;z-index: 1;}#sk-container-id-4 div.sk-parallel {display: flex;align-items: stretch;justify-content: center;background-color: white;position: relative;}#sk-container-id-4 div.sk-item::before, #sk-container-id-4 div.sk-parallel-item::before {content: \"\";position: absolute;border-left: 1px solid gray;box-sizing: border-box;top: 0;bottom: 0;left: 50%;z-index: -1;}#sk-container-id-4 div.sk-parallel-item {display: flex;flex-direction: column;z-index: 1;position: relative;background-color: white;}#sk-container-id-4 div.sk-parallel-item:first-child::after {align-self: flex-end;width: 50%;}#sk-container-id-4 div.sk-parallel-item:last-child::after {align-self: flex-start;width: 50%;}#sk-container-id-4 div.sk-parallel-item:only-child::after {width: 0;}#sk-container-id-4 div.sk-dashed-wrapped {border: 1px dashed gray;margin: 0 0.4em 0.5em 0.4em;box-sizing: border-box;padding-bottom: 0.4em;background-color: white;}#sk-container-id-4 div.sk-label label {font-family: monospace;font-weight: bold;display: inline-block;line-height: 1.2em;}#sk-container-id-4 div.sk-label-container {text-align: center;}#sk-container-id-4 div.sk-container {/* jupyter's `normalize.less` sets `[hidden] { display: none; }` but bootstrap.min.css set `[hidden] { display: none !important; }` so we also need the `!important` here to be able to override the default hidden behavior on the sphinx rendered scikit-learn.org. See: https://github.com/scikit-learn/scikit-learn/issues/21755 */display: inline-block !important;position: relative;}#sk-container-id-4 div.sk-text-repr-fallback {display: none;}</style><div id=\"sk-container-id-4\" class=\"sk-top-container\"><div class=\"sk-text-repr-fallback\"><pre>GridSearchCV(cv=10,\n",
       "             estimator=Pipeline(steps=[(&#x27;scaler&#x27;, StandardScaler()),\n",
       "                                       (&#x27;reduce_dim&#x27;, SelectKBest(k=5)),\n",
       "                                       (&#x27;regresor&#x27;, RandomForestRegressor())]),\n",
       "             param_grid=[{&#x27;reduce_dim&#x27;: [SelectKBest(k=[2, 3, 4, 5]), PCA()],\n",
       "                          &#x27;regresor&#x27;: [KNeighborsRegressor()],\n",
       "                          &#x27;regresor__n_neighbors&#x27;: [5, 10, 15, 20, 30, 50, 60,\n",
       "                                                    75, 100, 150]}],\n",
       "             scoring=&#x27;neg_mean_absolute_error&#x27;)</pre><b>In a Jupyter environment, please rerun this cell to show the HTML representation or trust the notebook. <br />On GitHub, the HTML representation is unable to render, please try loading this page with nbviewer.org.</b></div><div class=\"sk-container\" hidden><div class=\"sk-item sk-dashed-wrapped\"><div class=\"sk-label-container\"><div class=\"sk-label sk-toggleable\"><input class=\"sk-toggleable__control sk-hidden--visually\" id=\"sk-estimator-id-16\" type=\"checkbox\" ><label for=\"sk-estimator-id-16\" class=\"sk-toggleable__label sk-toggleable__label-arrow\">GridSearchCV</label><div class=\"sk-toggleable__content\"><pre>GridSearchCV(cv=10,\n",
       "             estimator=Pipeline(steps=[(&#x27;scaler&#x27;, StandardScaler()),\n",
       "                                       (&#x27;reduce_dim&#x27;, SelectKBest(k=5)),\n",
       "                                       (&#x27;regresor&#x27;, RandomForestRegressor())]),\n",
       "             param_grid=[{&#x27;reduce_dim&#x27;: [SelectKBest(k=[2, 3, 4, 5]), PCA()],\n",
       "                          &#x27;regresor&#x27;: [KNeighborsRegressor()],\n",
       "                          &#x27;regresor__n_neighbors&#x27;: [5, 10, 15, 20, 30, 50, 60,\n",
       "                                                    75, 100, 150]}],\n",
       "             scoring=&#x27;neg_mean_absolute_error&#x27;)</pre></div></div></div><div class=\"sk-parallel\"><div class=\"sk-parallel-item\"><div class=\"sk-item\"><div class=\"sk-label-container\"><div class=\"sk-label sk-toggleable\"><input class=\"sk-toggleable__control sk-hidden--visually\" id=\"sk-estimator-id-17\" type=\"checkbox\" ><label for=\"sk-estimator-id-17\" class=\"sk-toggleable__label sk-toggleable__label-arrow\">estimator: Pipeline</label><div class=\"sk-toggleable__content\"><pre>Pipeline(steps=[(&#x27;scaler&#x27;, StandardScaler()), (&#x27;reduce_dim&#x27;, SelectKBest(k=5)),\n",
       "                (&#x27;regresor&#x27;, RandomForestRegressor())])</pre></div></div></div><div class=\"sk-serial\"><div class=\"sk-item\"><div class=\"sk-serial\"><div class=\"sk-item\"><div class=\"sk-estimator sk-toggleable\"><input class=\"sk-toggleable__control sk-hidden--visually\" id=\"sk-estimator-id-18\" type=\"checkbox\" ><label for=\"sk-estimator-id-18\" class=\"sk-toggleable__label sk-toggleable__label-arrow\">StandardScaler</label><div class=\"sk-toggleable__content\"><pre>StandardScaler()</pre></div></div></div><div class=\"sk-item\"><div class=\"sk-estimator sk-toggleable\"><input class=\"sk-toggleable__control sk-hidden--visually\" id=\"sk-estimator-id-19\" type=\"checkbox\" ><label for=\"sk-estimator-id-19\" class=\"sk-toggleable__label sk-toggleable__label-arrow\">SelectKBest</label><div class=\"sk-toggleable__content\"><pre>SelectKBest(k=5)</pre></div></div></div><div class=\"sk-item\"><div class=\"sk-estimator sk-toggleable\"><input class=\"sk-toggleable__control sk-hidden--visually\" id=\"sk-estimator-id-20\" type=\"checkbox\" ><label for=\"sk-estimator-id-20\" class=\"sk-toggleable__label sk-toggleable__label-arrow\">RandomForestRegressor</label><div class=\"sk-toggleable__content\"><pre>RandomForestRegressor()</pre></div></div></div></div></div></div></div></div></div></div></div></div>"
      ],
      "text/plain": [
       "GridSearchCV(cv=10,\n",
       "             estimator=Pipeline(steps=[('scaler', StandardScaler()),\n",
       "                                       ('reduce_dim', SelectKBest(k=5)),\n",
       "                                       ('regresor', RandomForestRegressor())]),\n",
       "             param_grid=[{'reduce_dim': [SelectKBest(k=[2, 3, 4, 5]), PCA()],\n",
       "                          'regresor': [KNeighborsRegressor()],\n",
       "                          'regresor__n_neighbors': [5, 10, 15, 20, 30, 50, 60,\n",
       "                                                    75, 100, 150]}],\n",
       "             scoring='neg_mean_absolute_error')"
      ]
     },
     "execution_count": 44,
     "metadata": {},
     "output_type": "execute_result"
    }
   ],
   "source": [
    "pipe = Pipeline(steps=\n",
    "                [(\"scaler\", StandardScaler()),\n",
    "                 (\"reduce_dim\", SelectKBest(k=5)),\n",
    "                 ('regresor', RandomForestRegressor())])\n",
    "\n",
    "\n",
    "KNR_params = {\n",
    "    'reduce_dim': [SelectKBest(k=[2,3,4,5]),PCA()],\n",
    "    'regresor': [KNeighborsRegressor()],\n",
    "    'regresor__n_neighbors': [5,10,15,20,30,50,60,75,100,150]\n",
    "}\n",
    "\n",
    "search_space = [\n",
    " \n",
    "    KNR_params\n",
    "]\n",
    "\n",
    "Modelo_KNR = GridSearchCV(estimator = pipe,\n",
    "                  param_grid = search_space,\n",
    "                  scoring='neg_mean_absolute_error',\n",
    "                  cv = 10)\n",
    "\n",
    "Modelo_KNR.fit(X_train_venta, y_train_venta)"
   ]
  },
  {
   "cell_type": "markdown",
   "metadata": {},
   "source": [
    "Evaluación del modelo"
   ]
  },
  {
   "cell_type": "code",
   "execution_count": 45,
   "metadata": {},
   "outputs": [
    {
     "name": "stdout",
     "output_type": "stream",
     "text": [
      "MAE: 61442.86339285714\n",
      "MAPE: 0.23737646069520055\n",
      "RMSE: 136764.5937079183\n"
     ]
    }
   ],
   "source": [
    "prediction_KNR = Modelo_KNR.best_estimator_.predict(X_test_venta)\n",
    "print('MAE:', mean_absolute_error(y_test_venta,prediction_KNR))\n",
    "print('MAPE:', mean_absolute_percentage_error(y_test_venta,prediction_KNR))\n",
    "print('RMSE:', np.sqrt(mean_squared_error(y_test_venta,prediction_KNR)))"
   ]
  },
  {
   "cell_type": "markdown",
   "metadata": {},
   "source": [
    "Exportación del modelo"
   ]
  },
  {
   "cell_type": "code",
   "execution_count": 46,
   "metadata": {},
   "outputs": [],
   "source": [
    "modelo_final_KNR = Modelo_KNR.best_estimator_"
   ]
  },
  {
   "cell_type": "code",
   "execution_count": 47,
   "metadata": {},
   "outputs": [],
   "source": [
    "with open(os.path.join(directorio_actual, '..', 'models','modelo_final_KNR_venta.pkl'), 'wb') as file:\n",
    "    pickle.dump(modelo_final_KNR, file)"
   ]
  },
  {
   "cell_type": "code",
   "execution_count": 48,
   "metadata": {},
   "outputs": [],
   "source": [
    "with open(os.path.join(directorio_actual, '..', 'models','modelo_final_KNR_venta.yaml'), 'w') as file:\n",
    "    yaml.dump(Modelo_KNR.best_params_, file, default_flow_style=False)"
   ]
  },
  {
   "cell_type": "markdown",
   "metadata": {},
   "source": [
    "#### RandomForestRegressor"
   ]
  },
  {
   "cell_type": "markdown",
   "metadata": {},
   "source": [
    "Busqueda de mejores parámetros y entrenamiento del modelo"
   ]
  },
  {
   "cell_type": "code",
   "execution_count": 49,
   "metadata": {},
   "outputs": [
    {
     "data": {
      "text/html": [
       "<style>#sk-container-id-5 {color: black;}#sk-container-id-5 pre{padding: 0;}#sk-container-id-5 div.sk-toggleable {background-color: white;}#sk-container-id-5 label.sk-toggleable__label {cursor: pointer;display: block;width: 100%;margin-bottom: 0;padding: 0.3em;box-sizing: border-box;text-align: center;}#sk-container-id-5 label.sk-toggleable__label-arrow:before {content: \"▸\";float: left;margin-right: 0.25em;color: #696969;}#sk-container-id-5 label.sk-toggleable__label-arrow:hover:before {color: black;}#sk-container-id-5 div.sk-estimator:hover label.sk-toggleable__label-arrow:before {color: black;}#sk-container-id-5 div.sk-toggleable__content {max-height: 0;max-width: 0;overflow: hidden;text-align: left;background-color: #f0f8ff;}#sk-container-id-5 div.sk-toggleable__content pre {margin: 0.2em;color: black;border-radius: 0.25em;background-color: #f0f8ff;}#sk-container-id-5 input.sk-toggleable__control:checked~div.sk-toggleable__content {max-height: 200px;max-width: 100%;overflow: auto;}#sk-container-id-5 input.sk-toggleable__control:checked~label.sk-toggleable__label-arrow:before {content: \"▾\";}#sk-container-id-5 div.sk-estimator input.sk-toggleable__control:checked~label.sk-toggleable__label {background-color: #d4ebff;}#sk-container-id-5 div.sk-label input.sk-toggleable__control:checked~label.sk-toggleable__label {background-color: #d4ebff;}#sk-container-id-5 input.sk-hidden--visually {border: 0;clip: rect(1px 1px 1px 1px);clip: rect(1px, 1px, 1px, 1px);height: 1px;margin: -1px;overflow: hidden;padding: 0;position: absolute;width: 1px;}#sk-container-id-5 div.sk-estimator {font-family: monospace;background-color: #f0f8ff;border: 1px dotted black;border-radius: 0.25em;box-sizing: border-box;margin-bottom: 0.5em;}#sk-container-id-5 div.sk-estimator:hover {background-color: #d4ebff;}#sk-container-id-5 div.sk-parallel-item::after {content: \"\";width: 100%;border-bottom: 1px solid gray;flex-grow: 1;}#sk-container-id-5 div.sk-label:hover label.sk-toggleable__label {background-color: #d4ebff;}#sk-container-id-5 div.sk-serial::before {content: \"\";position: absolute;border-left: 1px solid gray;box-sizing: border-box;top: 0;bottom: 0;left: 50%;z-index: 0;}#sk-container-id-5 div.sk-serial {display: flex;flex-direction: column;align-items: center;background-color: white;padding-right: 0.2em;padding-left: 0.2em;position: relative;}#sk-container-id-5 div.sk-item {position: relative;z-index: 1;}#sk-container-id-5 div.sk-parallel {display: flex;align-items: stretch;justify-content: center;background-color: white;position: relative;}#sk-container-id-5 div.sk-item::before, #sk-container-id-5 div.sk-parallel-item::before {content: \"\";position: absolute;border-left: 1px solid gray;box-sizing: border-box;top: 0;bottom: 0;left: 50%;z-index: -1;}#sk-container-id-5 div.sk-parallel-item {display: flex;flex-direction: column;z-index: 1;position: relative;background-color: white;}#sk-container-id-5 div.sk-parallel-item:first-child::after {align-self: flex-end;width: 50%;}#sk-container-id-5 div.sk-parallel-item:last-child::after {align-self: flex-start;width: 50%;}#sk-container-id-5 div.sk-parallel-item:only-child::after {width: 0;}#sk-container-id-5 div.sk-dashed-wrapped {border: 1px dashed gray;margin: 0 0.4em 0.5em 0.4em;box-sizing: border-box;padding-bottom: 0.4em;background-color: white;}#sk-container-id-5 div.sk-label label {font-family: monospace;font-weight: bold;display: inline-block;line-height: 1.2em;}#sk-container-id-5 div.sk-label-container {text-align: center;}#sk-container-id-5 div.sk-container {/* jupyter's `normalize.less` sets `[hidden] { display: none; }` but bootstrap.min.css set `[hidden] { display: none !important; }` so we also need the `!important` here to be able to override the default hidden behavior on the sphinx rendered scikit-learn.org. See: https://github.com/scikit-learn/scikit-learn/issues/21755 */display: inline-block !important;position: relative;}#sk-container-id-5 div.sk-text-repr-fallback {display: none;}</style><div id=\"sk-container-id-5\" class=\"sk-top-container\"><div class=\"sk-text-repr-fallback\"><pre>GridSearchCV(cv=5,\n",
       "             estimator=Pipeline(steps=[(&#x27;scaler&#x27;, StandardScaler()),\n",
       "                                       (&#x27;reduce_dim&#x27;, SelectKBest(k=6)),\n",
       "                                       (&#x27;regresor&#x27;, RandomForestRegressor())]),\n",
       "             n_jobs=1,\n",
       "             param_grid=[{&#x27;reduce_dim&#x27;: [SelectKBest(k=[5, 6]), PCA()],\n",
       "                          &#x27;regresor&#x27;: [RandomForestRegressor()],\n",
       "                          &#x27;regresor__criterion&#x27;: [&#x27;squared_error&#x27;,\n",
       "                                                  &#x27;absolute_error&#x27;],\n",
       "                          &#x27;regresor__max_depth&#x27;: [3, 4],\n",
       "                          &#x27;regresor__max_features&#x27;: [1, 2],\n",
       "                          &#x27;regresor__n_estimators&#x27;: [50, 100]}],\n",
       "             scoring=&#x27;neg_mean_absolute_error&#x27;)</pre><b>In a Jupyter environment, please rerun this cell to show the HTML representation or trust the notebook. <br />On GitHub, the HTML representation is unable to render, please try loading this page with nbviewer.org.</b></div><div class=\"sk-container\" hidden><div class=\"sk-item sk-dashed-wrapped\"><div class=\"sk-label-container\"><div class=\"sk-label sk-toggleable\"><input class=\"sk-toggleable__control sk-hidden--visually\" id=\"sk-estimator-id-21\" type=\"checkbox\" ><label for=\"sk-estimator-id-21\" class=\"sk-toggleable__label sk-toggleable__label-arrow\">GridSearchCV</label><div class=\"sk-toggleable__content\"><pre>GridSearchCV(cv=5,\n",
       "             estimator=Pipeline(steps=[(&#x27;scaler&#x27;, StandardScaler()),\n",
       "                                       (&#x27;reduce_dim&#x27;, SelectKBest(k=6)),\n",
       "                                       (&#x27;regresor&#x27;, RandomForestRegressor())]),\n",
       "             n_jobs=1,\n",
       "             param_grid=[{&#x27;reduce_dim&#x27;: [SelectKBest(k=[5, 6]), PCA()],\n",
       "                          &#x27;regresor&#x27;: [RandomForestRegressor()],\n",
       "                          &#x27;regresor__criterion&#x27;: [&#x27;squared_error&#x27;,\n",
       "                                                  &#x27;absolute_error&#x27;],\n",
       "                          &#x27;regresor__max_depth&#x27;: [3, 4],\n",
       "                          &#x27;regresor__max_features&#x27;: [1, 2],\n",
       "                          &#x27;regresor__n_estimators&#x27;: [50, 100]}],\n",
       "             scoring=&#x27;neg_mean_absolute_error&#x27;)</pre></div></div></div><div class=\"sk-parallel\"><div class=\"sk-parallel-item\"><div class=\"sk-item\"><div class=\"sk-label-container\"><div class=\"sk-label sk-toggleable\"><input class=\"sk-toggleable__control sk-hidden--visually\" id=\"sk-estimator-id-22\" type=\"checkbox\" ><label for=\"sk-estimator-id-22\" class=\"sk-toggleable__label sk-toggleable__label-arrow\">estimator: Pipeline</label><div class=\"sk-toggleable__content\"><pre>Pipeline(steps=[(&#x27;scaler&#x27;, StandardScaler()), (&#x27;reduce_dim&#x27;, SelectKBest(k=6)),\n",
       "                (&#x27;regresor&#x27;, RandomForestRegressor())])</pre></div></div></div><div class=\"sk-serial\"><div class=\"sk-item\"><div class=\"sk-serial\"><div class=\"sk-item\"><div class=\"sk-estimator sk-toggleable\"><input class=\"sk-toggleable__control sk-hidden--visually\" id=\"sk-estimator-id-23\" type=\"checkbox\" ><label for=\"sk-estimator-id-23\" class=\"sk-toggleable__label sk-toggleable__label-arrow\">StandardScaler</label><div class=\"sk-toggleable__content\"><pre>StandardScaler()</pre></div></div></div><div class=\"sk-item\"><div class=\"sk-estimator sk-toggleable\"><input class=\"sk-toggleable__control sk-hidden--visually\" id=\"sk-estimator-id-24\" type=\"checkbox\" ><label for=\"sk-estimator-id-24\" class=\"sk-toggleable__label sk-toggleable__label-arrow\">SelectKBest</label><div class=\"sk-toggleable__content\"><pre>SelectKBest(k=6)</pre></div></div></div><div class=\"sk-item\"><div class=\"sk-estimator sk-toggleable\"><input class=\"sk-toggleable__control sk-hidden--visually\" id=\"sk-estimator-id-25\" type=\"checkbox\" ><label for=\"sk-estimator-id-25\" class=\"sk-toggleable__label sk-toggleable__label-arrow\">RandomForestRegressor</label><div class=\"sk-toggleable__content\"><pre>RandomForestRegressor()</pre></div></div></div></div></div></div></div></div></div></div></div></div>"
      ],
      "text/plain": [
       "GridSearchCV(cv=5,\n",
       "             estimator=Pipeline(steps=[('scaler', StandardScaler()),\n",
       "                                       ('reduce_dim', SelectKBest(k=6)),\n",
       "                                       ('regresor', RandomForestRegressor())]),\n",
       "             n_jobs=1,\n",
       "             param_grid=[{'reduce_dim': [SelectKBest(k=[5, 6]), PCA()],\n",
       "                          'regresor': [RandomForestRegressor()],\n",
       "                          'regresor__criterion': ['squared_error',\n",
       "                                                  'absolute_error'],\n",
       "                          'regresor__max_depth': [3, 4],\n",
       "                          'regresor__max_features': [1, 2],\n",
       "                          'regresor__n_estimators': [50, 100]}],\n",
       "             scoring='neg_mean_absolute_error')"
      ]
     },
     "execution_count": 49,
     "metadata": {},
     "output_type": "execute_result"
    }
   ],
   "source": [
    "pipe = Pipeline(steps=\n",
    "                [(\"scaler\", StandardScaler()),\n",
    "                 (\"reduce_dim\", SelectKBest(k=6)),\n",
    "                 ('regresor', RandomForestRegressor())])\n",
    "\n",
    "\n",
    "RFR_params = {\n",
    "    'reduce_dim': [SelectKBest(k=[5,6]),PCA()],\n",
    "    'regresor': [RandomForestRegressor()],\n",
    "    'regresor__max_features': [1,2],\n",
    "    'regresor__max_depth': [3,4],\n",
    "    'regresor__n_estimators': [50,100],\n",
    "    'regresor__criterion': ['squared_error', 'absolute_error']\n",
    "}\n",
    "\n",
    "search_space = [\n",
    " \n",
    "    RFR_params\n",
    "]\n",
    "\n",
    "Modelo_RFR = GridSearchCV(estimator = pipe,\n",
    "                  param_grid = search_space,\n",
    "                  scoring='neg_mean_absolute_error',\n",
    "                  cv = 5,\n",
    "                  n_jobs=1)\n",
    "\n",
    "Modelo_RFR.fit(X_train_venta, y_train_venta)"
   ]
  },
  {
   "cell_type": "markdown",
   "metadata": {},
   "source": [
    "Evaluación del modelo"
   ]
  },
  {
   "cell_type": "code",
   "execution_count": 50,
   "metadata": {},
   "outputs": [
    {
     "name": "stdout",
     "output_type": "stream",
     "text": [
      "MAE: 71844.23154017857\n",
      "MAPE: 0.29537842493304745\n",
      "RMSE: 162976.84629534456\n"
     ]
    }
   ],
   "source": [
    "prediction_RFR = Modelo_RFR.best_estimator_.predict(X_test_venta)\n",
    "print('MAE:', mean_absolute_error(y_test_venta,prediction_RFR))\n",
    "print('MAPE:', mean_absolute_percentage_error(y_test_venta,prediction_RFR))\n",
    "print('RMSE:', np.sqrt(mean_squared_error(y_test_venta,prediction_RFR)))"
   ]
  },
  {
   "cell_type": "markdown",
   "metadata": {},
   "source": [
    "Exportación del modelo"
   ]
  },
  {
   "cell_type": "code",
   "execution_count": 51,
   "metadata": {},
   "outputs": [],
   "source": [
    "modelo_final_RFR = Modelo_RFR.best_estimator_"
   ]
  },
  {
   "cell_type": "code",
   "execution_count": 52,
   "metadata": {},
   "outputs": [],
   "source": [
    "with open(os.path.join(directorio_actual, '..', 'models','modelo_final_RFR_venta.pkl'), 'wb') as file:\n",
    "    pickle.dump(modelo_final_RFR, file)"
   ]
  },
  {
   "cell_type": "code",
   "execution_count": 53,
   "metadata": {},
   "outputs": [],
   "source": [
    "with open(os.path.join(directorio_actual, '..', 'models','modelo_final_RFR_venta.yaml'), 'w') as file:\n",
    "    yaml.dump(Modelo_RFR.best_params_, file, default_flow_style=False)"
   ]
  }
 ],
 "metadata": {
  "kernelspec": {
   "display_name": "Python 3",
   "language": "python",
   "name": "python3"
  },
  "language_info": {
   "codemirror_mode": {
    "name": "ipython",
    "version": 3
   },
   "file_extension": ".py",
   "mimetype": "text/x-python",
   "name": "python",
   "nbconvert_exporter": "python",
   "pygments_lexer": "ipython3",
   "version": "3.11.5"
  }
 },
 "nbformat": 4,
 "nbformat_minor": 2
}
