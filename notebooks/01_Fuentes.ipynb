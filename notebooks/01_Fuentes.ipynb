{
 "cells": [
  {
   "cell_type": "markdown",
   "metadata": {},
   "source": [
    "## Extracción de datos de la API de idealista"
   ]
  },
  {
   "cell_type": "markdown",
   "metadata": {},
   "source": [
    "#### Importación de librerías"
   ]
  },
  {
   "cell_type": "code",
   "execution_count": null,
   "metadata": {},
   "outputs": [],
   "source": [
    "import pandas as pd\n",
    "import os\n",
    "\n",
    "import requests\n",
    "from base64 import b64encode"
   ]
  },
  {
   "cell_type": "markdown",
   "metadata": {},
   "source": [
    "#### Acceso a la API"
   ]
  },
  {
   "cell_type": "code",
   "execution_count": 2,
   "metadata": {},
   "outputs": [],
   "source": [
    "'''Creo una función para obtener el access token según las instrucciones'''\n",
    "def get_access_token(api_key, api_secret):\n",
    "    \n",
    "    credentials = f\"{api_key}:{api_secret}\"\n",
    "    encoded_credentials = b64encode(credentials.encode()).decode('utf-8')\n",
    "\n",
    "    token_url = \"https://api.idealista.com/oauth/token\"\n",
    "\n",
    "    token_headers = {\n",
    "        'Authorization': f'Basic {encoded_credentials}',\n",
    "        'Content-Type': 'application/x-www-form-urlencoded;charset=UTF-8'}\n",
    "\n",
    "    token_data = {\n",
    "        'grant_type': 'client_credentials',\n",
    "        'scope': 'read'}\n",
    "\n",
    "    token_response = requests.post(token_url, headers=token_headers, data=token_data)\n",
    "\n",
    "    if token_response.status_code == 200:\n",
    "        token_json = token_response.json()\n",
    "        access_token = token_json['access_token']\n",
    "        return access_token\n",
    "    else:\n",
    "        print(f\"Error: {token_response.status_code}\")\n",
    "        print(token_response.text)\n",
    "        return None\n",
    "    \n",
    "\n",
    "'''Creo la función donde hago la llamada segun los filtros de busqueda que desee aplicar'''\n",
    "def search_properties(api_key, api_secret, country, operation, property_type, center, distance, locale='es', max_items=50, num_page=1, order='publicationDate', sort='desc', **filters):\n",
    "    \n",
    "    access_token = get_access_token(api_key, api_secret)\n",
    "    \n",
    "    if not access_token:\n",
    "        return None\n",
    "\n",
    "   \n",
    "    search_url = f\"https://api.idealista.com/3.5/{country}/search\"\n",
    "\n",
    "    \n",
    "    headers = {\n",
    "        'Authorization': f'Bearer {access_token}',\n",
    "        'Content-Type': 'application/x-www-form-urlencoded;charset=UTF-8'}\n",
    "\n",
    "    \n",
    "    data = {\n",
    "        'locale': locale,\n",
    "        'maxItems': max_items,\n",
    "        'numPage': num_page,\n",
    "        'operation': operation,\n",
    "        'order': order,\n",
    "        'propertyType': property_type,\n",
    "        'sort': sort,\n",
    "        'center': center,\n",
    "        'distance': distance,}\n",
    "\n",
    "    # para añadir filtros adicionales\n",
    "    data.update(filters)\n",
    "\n",
    "    response = requests.post(search_url, headers=headers, data=data)\n",
    "\n",
    "    if response.status_code == 200:\n",
    "        json_response = response.json()\n",
    "        return json_response\n",
    "    else:\n",
    "        print(f\"Error: {response.status_code}\")\n",
    "        print(response.text)\n",
    "        return None\n",
    "\n"
   ]
  },
  {
   "cell_type": "markdown",
   "metadata": {},
   "source": [
    "#### Llamadas a la API"
   ]
  },
  {
   "cell_type": "markdown",
   "metadata": {},
   "source": [
    "Creo las variables de busqueda"
   ]
  },
  {
   "cell_type": "code",
   "execution_count": 80,
   "metadata": {},
   "outputs": [],
   "source": [
    "api_key = \"bd8su7emxovedjjbw00sz1vu8kgluvwc\"\n",
    "api_secret = \"yx07uav2PwqX\"\n",
    "country = \"es\"\n",
    "operation = \"rent\"\n",
    "property_type = \"homes\"\n",
    "center = \"37.178,-5.851\"\n",
    "distance = \"9000\"\n"
   ]
  },
  {
   "cell_type": "code",
   "execution_count": 76,
   "metadata": {},
   "outputs": [],
   "source": [
    "'''Cada número de esta lista, es el número de página\n",
    "dentro de las variables de búsqueda de la llamada.\n",
    "Como necesito sacar mas de 1000 registros pero el máximo por página son 50,\n",
    "tendré que ir cambiando de página para conseguirlos.'''\n",
    "numero_pagina = [1,2,3,4,5]"
   ]
  },
  {
   "cell_type": "code",
   "execution_count": 81,
   "metadata": {},
   "outputs": [],
   "source": [
    "'''Para ello, mediante un bucle for recorro cada número de esa lista\n",
    "y por cada uno, creo una llamada cuya variable num_page será dicho numero.\n",
    "En resultados, añdiremos un diccionario por cada llamada.'''\n",
    "resultados = {}\n",
    "for numero in numero_pagina:\n",
    "    nombre_variable = f\"result_{numero}\"\n",
    "    resultados[nombre_variable] = search_properties(api_key, api_secret, country, operation, property_type, center, distance,num_page=numero)"
   ]
  },
  {
   "cell_type": "code",
   "execution_count": 82,
   "metadata": {},
   "outputs": [],
   "source": [
    "'''Mediante un bucle for, vuelvo a recorrer la lista de numeros\n",
    "para crear de cada diccionario una dataframe y adjudicarle cada número al nombrte'''\n",
    "dataframes = {}\n",
    "for numero in numero_pagina:\n",
    "    nombre_dataframe = f\"df_{numero}\"\n",
    "    dataframes[nombre_dataframe] = pd.DataFrame(resultados[f'result_{numero}']['elementList'])"
   ]
  },
  {
   "cell_type": "code",
   "execution_count": 84,
   "metadata": {},
   "outputs": [],
   "source": [
    "'''concateno todas las dataframes creadas'''\n",
    "for key, df in dataframes.items():\n",
    "    df_total = pd.concat([df_total, df], axis=0)"
   ]
  },
  {
   "cell_type": "markdown",
   "metadata": {},
   "source": [
    "#### Exportación de la dataframe"
   ]
  },
  {
   "cell_type": "code",
   "execution_count": 2,
   "metadata": {},
   "outputs": [],
   "source": [
    "directorio_actual = os.getcwd()"
   ]
  },
  {
   "cell_type": "code",
   "execution_count": 87,
   "metadata": {},
   "outputs": [],
   "source": [
    "df_total.to_csv(os.path.join(directorio_actual, '..', 'data','raw','df_total.csv'))"
   ]
  }
 ],
 "metadata": {
  "kernelspec": {
   "display_name": "Python 3",
   "language": "python",
   "name": "python3"
  },
  "language_info": {
   "codemirror_mode": {
    "name": "ipython",
    "version": 3
   },
   "file_extension": ".py",
   "mimetype": "text/x-python",
   "name": "python",
   "nbconvert_exporter": "python",
   "pygments_lexer": "ipython3",
   "version": "3.11.5"
  }
 },
 "nbformat": 4,
 "nbformat_minor": 2
}
