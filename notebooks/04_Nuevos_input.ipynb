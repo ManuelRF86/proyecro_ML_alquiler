{
 "cells": [
  {
   "cell_type": "markdown",
   "metadata": {},
   "source": [
    "## Creación de llamadas a nuevos inputs"
   ]
  },
  {
   "cell_type": "markdown",
   "metadata": {},
   "source": [
    "#### Importación de librerías"
   ]
  },
  {
   "cell_type": "code",
   "execution_count": 10,
   "metadata": {},
   "outputs": [],
   "source": [
    "import pandas as pd\n",
    "import seaborn as sns\n",
    "import matplotlib.pyplot as plt\n",
    "import numpy as np\n",
    "import pickle\n",
    "import os"
   ]
  },
  {
   "cell_type": "markdown",
   "metadata": {},
   "source": [
    "#### Importación de modelos"
   ]
  },
  {
   "cell_type": "code",
   "execution_count": 11,
   "metadata": {},
   "outputs": [],
   "source": [
    "directorio_actual = os.getcwd()"
   ]
  },
  {
   "cell_type": "code",
   "execution_count": 12,
   "metadata": {},
   "outputs": [],
   "source": [
    "'''para cargar el modelo entrenado'''\n",
    "with open(os.path.join(directorio_actual, '..', 'models','modelo_final_GBR.pkl'), 'rb') as file:\n",
    "    modelo_GBR = pickle.load(file)"
   ]
  },
  {
   "cell_type": "markdown",
   "metadata": {},
   "source": [
    "#### Importación de dataframes"
   ]
  },
  {
   "cell_type": "code",
   "execution_count": 13,
   "metadata": {},
   "outputs": [],
   "source": [
    "df = pd.read_csv(os.path.join(directorio_actual, '..', 'data','df.csv'))\n",
    "df_num = pd.read_csv(os.path.join(directorio_actual, '..', 'data','df_num.csv'))"
   ]
  },
  {
   "cell_type": "markdown",
   "metadata": {},
   "source": [
    "#### Ejemplo de llamada a nuevo input"
   ]
  },
  {
   "cell_type": "code",
   "execution_count": 14,
   "metadata": {},
   "outputs": [],
   "source": [
    "dicc_miraflores = {'size':60,'codigo_distrito':48,'parking':0,'codigo_tipo':2,'piscina':0 ,'total_rooms':3}\n",
    "dicc_centro = {'size':60,'codigo_distrito':69,'parking':0,'codigo_tipo':2,'piscina':0 ,'total_rooms':3}"
   ]
  },
  {
   "cell_type": "code",
   "execution_count": 15,
   "metadata": {},
   "outputs": [],
   "source": [
    "centro = pd.DataFrame(data=dicc_centro, index=[0])\n",
    "miraflores = pd.DataFrame(data=dicc_miraflores, index=[0])"
   ]
  },
  {
   "cell_type": "code",
   "execution_count": 16,
   "metadata": {},
   "outputs": [
    {
     "name": "stdout",
     "output_type": "stream",
     "text": [
      "[788.20475972]\n"
     ]
    }
   ],
   "source": [
    "prediction_centro = modelo_GBR.predict(centro)\n",
    "print(prediction_centro)"
   ]
  },
  {
   "cell_type": "code",
   "execution_count": 17,
   "metadata": {},
   "outputs": [
    {
     "name": "stdout",
     "output_type": "stream",
     "text": [
      "[712.04203081]\n"
     ]
    }
   ],
   "source": [
    "prediction_miraflores = modelo_GBR.predict(miraflores)\n",
    "print(prediction_miraflores)"
   ]
  },
  {
   "cell_type": "markdown",
   "metadata": {},
   "source": [
    "#### Función para hacer llamada"
   ]
  },
  {
   "cell_type": "code",
   "execution_count": 26,
   "metadata": {},
   "outputs": [],
   "source": [
    "def calcular_alquiler(tamaño,poblacion_distrito,parking,tipo_vivienda,piscina,habitaciones,baños):\n",
    "    \n",
    "    dicc_tipo = {'Estudio' : 1,'Piso' : 2,'Adosado' : 3,'Duplex' : 4,'Ático' : 5,'Casa pareada' : 6,'Chalet independiente' : 7}\n",
    "    dicc = {}\n",
    "    \n",
    "    dicc['size'] = tamaño\n",
    "\n",
    "    for i, pob_dis in enumerate(df['poblacion / distrito']):\n",
    "        if pob_dis == poblacion_distrito:\n",
    "            for n, codigo_dist in enumerate(df['codigo_distrito']):\n",
    "                if n == i:\n",
    "                    dicc['codigo_distrito'] = codigo_dist\n",
    "                    break\n",
    "    if parking == 'No':            \n",
    "        dicc['parking'] = 0\n",
    "    else:\n",
    "        dicc['parking'] = 1\n",
    "\n",
    "    for tipo,codigo in dicc_tipo.items():\n",
    "        if tipo == tipo_vivienda:\n",
    "            dicc['codigo_tipo'] = codigo\n",
    "\n",
    "    if piscina == 'No':            \n",
    "        dicc['piscina'] = 0\n",
    "    else:\n",
    "        dicc['piscina'] = 1\n",
    "\n",
    "    \n",
    "    dicc['total_rooms'] = habitaciones + baños\n",
    "    \n",
    "    \n",
    "    return(dicc)    \n",
    "    "
   ]
  },
  {
   "cell_type": "code",
   "execution_count": 27,
   "metadata": {},
   "outputs": [
    {
     "data": {
      "text/plain": [
       "{'size': 46,\n",
       " 'codigo_distrito': 70,\n",
       " 'parking': 0,\n",
       " 'codigo_tipo': 6,\n",
       " 'piscina': 0,\n",
       " 'total_rooms': 3}"
      ]
     },
     "execution_count": 27,
     "metadata": {},
     "output_type": "execute_result"
    }
   ],
   "source": [
    "calcular_alquiler(46,'Sevilla / Nervión','No','Casa pareada','No',2,1)"
   ]
  },
  {
   "cell_type": "code",
   "execution_count": 38,
   "metadata": {},
   "outputs": [],
   "source": [
    "vivienda = pd.DataFrame([calcular_alquiler(60,'Sevilla / Nervión','No','Piso','No',2,1)], index=[0])"
   ]
  },
  {
   "cell_type": "code",
   "execution_count": 39,
   "metadata": {},
   "outputs": [
    {
     "name": "stderr",
     "output_type": "stream",
     "text": [
      "C:\\Users\\Manolo\\AppData\\Local\\Temp\\ipykernel_23676\\182415444.py:1: DeprecationWarning: Conversion of an array with ndim > 0 to a scalar is deprecated, and will error in future. Ensure you extract a single element from your array before performing this operation. (Deprecated NumPy 1.25.)\n",
      "  prediction = int(modelo_GBR.predict(vivienda))\n"
     ]
    },
    {
     "data": {
      "text/plain": [
       "889"
      ]
     },
     "execution_count": 39,
     "metadata": {},
     "output_type": "execute_result"
    }
   ],
   "source": [
    "prediction = int(modelo_GBR.predict(vivienda))\n",
    "prediction"
   ]
  }
 ],
 "metadata": {
  "kernelspec": {
   "display_name": "Python 3",
   "language": "python",
   "name": "python3"
  },
  "language_info": {
   "codemirror_mode": {
    "name": "ipython",
    "version": 3
   },
   "file_extension": ".py",
   "mimetype": "text/x-python",
   "name": "python",
   "nbconvert_exporter": "python",
   "pygments_lexer": "ipython3",
   "version": "3.11.5"
  }
 },
 "nbformat": 4,
 "nbformat_minor": 2
}
