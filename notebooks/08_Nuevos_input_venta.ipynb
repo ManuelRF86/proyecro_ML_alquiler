{
 "cells": [
  {
   "cell_type": "markdown",
   "metadata": {},
   "source": [
    "## Creación de llamadas a nuevos inputs"
   ]
  },
  {
   "cell_type": "markdown",
   "metadata": {},
   "source": [
    "### Importación de librerías"
   ]
  },
  {
   "cell_type": "code",
   "execution_count": 5,
   "metadata": {},
   "outputs": [],
   "source": [
    "import pandas as pd\n",
    "import seaborn as sns\n",
    "import matplotlib.pyplot as plt\n",
    "import numpy as np\n",
    "import pickle\n",
    "import os"
   ]
  },
  {
   "cell_type": "markdown",
   "metadata": {},
   "source": [
    "### Warnings y display de la dataframe"
   ]
  },
  {
   "cell_type": "code",
   "execution_count": 6,
   "metadata": {},
   "outputs": [],
   "source": [
    "pd.set_option(\"max_colwidth\", 50)\n",
    "pd.set_option('display.max_columns', 20)\n",
    "pd.set_option('display.max_rows', 20)"
   ]
  },
  {
   "cell_type": "code",
   "execution_count": 7,
   "metadata": {},
   "outputs": [],
   "source": [
    "import warnings\n",
    "\n",
    "warnings.filterwarnings(\"ignore\")"
   ]
  },
  {
   "cell_type": "markdown",
   "metadata": {},
   "source": [
    "### Importación de modelos"
   ]
  },
  {
   "cell_type": "code",
   "execution_count": 8,
   "metadata": {},
   "outputs": [],
   "source": [
    "directorio_actual = os.getcwd()"
   ]
  },
  {
   "cell_type": "code",
   "execution_count": 9,
   "metadata": {},
   "outputs": [],
   "source": [
    "'''para cargar el modelo entrenado'''\n",
    "with open(os.path.join(directorio_actual, '..', 'models','modelo_final_GBR_venta.pkl'), 'rb') as file:\n",
    "    modelo_GBR_venta = pickle.load(file)"
   ]
  },
  {
   "cell_type": "markdown",
   "metadata": {},
   "source": [
    "### Importación de dataframes"
   ]
  },
  {
   "cell_type": "code",
   "execution_count": 10,
   "metadata": {},
   "outputs": [],
   "source": [
    "df_venta = pd.read_csv(os.path.join(directorio_actual, '..', 'data','processed','df_venta.csv'))\n",
    "df_num_venta = pd.read_csv(os.path.join(directorio_actual, '..', 'data','processed','df_num_venta.csv'))"
   ]
  },
  {
   "cell_type": "markdown",
   "metadata": {},
   "source": [
    "### Ejemplo de llamada a nuevo input"
   ]
  },
  {
   "cell_type": "code",
   "execution_count": 11,
   "metadata": {},
   "outputs": [],
   "source": [
    "dicc_miraflores = {'size':60,'codigo_distrito':48,'parking':0,'codigo_tipo':2,'piscina':0 ,'total_rooms':3}\n",
    "dicc_centro = {'size':60,'codigo_distrito':69,'parking':0,'codigo_tipo':2,'piscina':0 ,'total_rooms':3}"
   ]
  },
  {
   "cell_type": "code",
   "execution_count": 12,
   "metadata": {},
   "outputs": [],
   "source": [
    "centro = pd.DataFrame(data=dicc_centro, index=[0])\n",
    "miraflores = pd.DataFrame(data=dicc_miraflores, index=[0])"
   ]
  },
  {
   "cell_type": "code",
   "execution_count": 13,
   "metadata": {},
   "outputs": [
    {
     "name": "stdout",
     "output_type": "stream",
     "text": [
      "[229378.12132313]\n"
     ]
    }
   ],
   "source": [
    "prediction_centro = modelo_GBR_venta.predict(centro)\n",
    "print(prediction_centro)"
   ]
  },
  {
   "cell_type": "code",
   "execution_count": 14,
   "metadata": {},
   "outputs": [
    {
     "name": "stdout",
     "output_type": "stream",
     "text": [
      "[119161.79138487]\n"
     ]
    }
   ],
   "source": [
    "prediction_miraflores = modelo_GBR_venta.predict(miraflores)\n",
    "print(prediction_miraflores)"
   ]
  },
  {
   "cell_type": "markdown",
   "metadata": {},
   "source": [
    "### Función para hacer llamada"
   ]
  },
  {
   "cell_type": "code",
   "execution_count": 15,
   "metadata": {},
   "outputs": [],
   "source": [
    "def calcular_venta(tamaño,poblacion_distrito,parking,tipo_vivienda,piscina,habitaciones,baños):\n",
    "    \n",
    "    dicc_tipo = {'Estudio' : 1,'Piso' : 2,'Adosado' : 3,'Duplex' : 4,'Ático' : 5,'Casa pareada' : 6,'Chalet independiente' : 7}\n",
    "    dicc = {}\n",
    "    \n",
    "    dicc['size'] = tamaño\n",
    "\n",
    "    for i, pob_dis in enumerate(df_venta['poblacion / distrito']):\n",
    "        if pob_dis == poblacion_distrito:\n",
    "            for n, codigo_dist in enumerate(df_venta['codigo_distrito']):\n",
    "                if n == i:\n",
    "                    dicc['codigo_distrito'] = codigo_dist\n",
    "                    break\n",
    "    if parking == 'No':            \n",
    "        dicc['parking'] = 0\n",
    "    else:\n",
    "        dicc['parking'] = 1\n",
    "\n",
    "    for tipo,codigo in dicc_tipo.items():\n",
    "        if tipo == tipo_vivienda:\n",
    "            dicc['codigo_tipo'] = codigo\n",
    "\n",
    "    if piscina == 'No':            \n",
    "        dicc['piscina'] = 0\n",
    "    else:\n",
    "        dicc['piscina'] = 1\n",
    "\n",
    "    \n",
    "    dicc['total_rooms'] = habitaciones + baños\n",
    "    \n",
    "    \n",
    "    return(dicc)    \n",
    "    "
   ]
  },
  {
   "cell_type": "code",
   "execution_count": 16,
   "metadata": {},
   "outputs": [
    {
     "data": {
      "text/plain": [
       "{'size': 46,\n",
       " 'codigo_distrito': 70,\n",
       " 'parking': 0,\n",
       " 'codigo_tipo': 6,\n",
       " 'piscina': 0,\n",
       " 'total_rooms': 3}"
      ]
     },
     "execution_count": 16,
     "metadata": {},
     "output_type": "execute_result"
    }
   ],
   "source": [
    "calcular_venta(46,'Sevilla / Nervión','No','Casa pareada','No',2,1)"
   ]
  },
  {
   "cell_type": "code",
   "execution_count": 17,
   "metadata": {},
   "outputs": [],
   "source": [
    "vivienda = pd.DataFrame([calcular_venta(60,'Sevilla / Nervión','No','Piso','No',2,1)], index=[0])"
   ]
  },
  {
   "cell_type": "code",
   "execution_count": 18,
   "metadata": {},
   "outputs": [
    {
     "data": {
      "text/plain": [
       "231138"
      ]
     },
     "execution_count": 18,
     "metadata": {},
     "output_type": "execute_result"
    }
   ],
   "source": [
    "prediction = int(modelo_GBR_venta.predict(vivienda))\n",
    "prediction"
   ]
  }
 ],
 "metadata": {
  "kernelspec": {
   "display_name": "Python 3",
   "language": "python",
   "name": "python3"
  },
  "language_info": {
   "codemirror_mode": {
    "name": "ipython",
    "version": 3
   },
   "file_extension": ".py",
   "mimetype": "text/x-python",
   "name": "python",
   "nbconvert_exporter": "python",
   "pygments_lexer": "ipython3",
   "version": "3.11.5"
  }
 },
 "nbformat": 4,
 "nbformat_minor": 2
}
