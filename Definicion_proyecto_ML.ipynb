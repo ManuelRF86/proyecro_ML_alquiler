{
 "cells": [
  {
   "cell_type": "markdown",
   "metadata": {},
   "source": [
    "# INFORMACIÓN DEL PROYECTO"
   ]
  },
  {
   "cell_type": "markdown",
   "metadata": {},
   "source": [
    "## ¿Cuanto cuesta vivir en Sevilla?"
   ]
  },
  {
   "cell_type": "markdown",
   "metadata": {},
   "source": [
    "### TEMA"
   ]
  },
  {
   "cell_type": "markdown",
   "metadata": {},
   "source": [
    "#### Precios de los alquileres en el area metropolitana de Sevilla "
   ]
  },
  {
   "cell_type": "markdown",
   "metadata": {},
   "source": [
    "### Datos a predecir"
   ]
  },
  {
   "cell_type": "markdown",
   "metadata": {},
   "source": [
    "- 1ª Intentaremos predecir el precio de alquiler de una vivienda segun la zona, nº de habitaciones, nº de baños, tamaño de la vivienda, etc.\n",
    "- 2ª Intentaremos predecir el precio de compra para así calcular la rentabilidad que obtendría un inversor que decida comprar viviendas para aquilar.\n",
    "- 3ª Como extra y solo si tengo suficiente tiempo, dividiré la segunda opción 2 clases: \n",
    "    - Comprar la vivienda al contado.\n",
    "    - Pedir hipoteca y calcular como de rentable es comprar para alquilar. "
   ]
  },
  {
   "cell_type": "markdown",
   "metadata": {},
   "source": [
    "## OBTENCIÓN DE LOS DATOS"
   ]
  },
  {
   "cell_type": "markdown",
   "metadata": {},
   "source": [
    "### FUENTES DE DATOS"
   ]
  },
  {
   "cell_type": "markdown",
   "metadata": {},
   "source": [
    "- Los datos han sido obtenidos de la API de Idealista\n",
    "- Añadiré si es necesario, datos sobre rentas cogidos del INE\n",
    "- Buscar datos sobre las tasas de delincuencia por barrios/poblaciones."
   ]
  },
  {
   "cell_type": "code",
   "execution_count": 1,
   "metadata": {},
   "outputs": [],
   "source": [
    "import pandas as pd"
   ]
  },
  {
   "cell_type": "markdown",
   "metadata": {},
   "source": [
    "Muestra mediante un head() los principales datasets con los que vas a trabajar"
   ]
  },
  {
   "cell_type": "code",
   "execution_count": 7,
   "metadata": {},
   "outputs": [],
   "source": [
    "df = pd.read_csv('data/df_total.csv')"
   ]
  },
  {
   "cell_type": "code",
   "execution_count": 8,
   "metadata": {},
   "outputs": [
    {
     "data": {
      "text/html": [
       "<div>\n",
       "<style scoped>\n",
       "    .dataframe tbody tr th:only-of-type {\n",
       "        vertical-align: middle;\n",
       "    }\n",
       "\n",
       "    .dataframe tbody tr th {\n",
       "        vertical-align: top;\n",
       "    }\n",
       "\n",
       "    .dataframe thead th {\n",
       "        text-align: right;\n",
       "    }\n",
       "</style>\n",
       "<table border=\"1\" class=\"dataframe\">\n",
       "  <thead>\n",
       "    <tr style=\"text-align: right;\">\n",
       "      <th></th>\n",
       "      <th>Unnamed: 0</th>\n",
       "      <th>propertyCode</th>\n",
       "      <th>thumbnail</th>\n",
       "      <th>numPhotos</th>\n",
       "      <th>floor</th>\n",
       "      <th>price</th>\n",
       "      <th>propertyType</th>\n",
       "      <th>operation</th>\n",
       "      <th>size</th>\n",
       "      <th>exterior</th>\n",
       "      <th>...</th>\n",
       "      <th>has360</th>\n",
       "      <th>hasStaging</th>\n",
       "      <th>topNewDevelopment</th>\n",
       "      <th>superTopHighlight</th>\n",
       "      <th>externalReference</th>\n",
       "      <th>neighborhood</th>\n",
       "      <th>labels</th>\n",
       "      <th>parkingSpace</th>\n",
       "      <th>highlight</th>\n",
       "      <th>newDevelopmentFinished</th>\n",
       "    </tr>\n",
       "  </thead>\n",
       "  <tbody>\n",
       "    <tr>\n",
       "      <th>0</th>\n",
       "      <td>0</td>\n",
       "      <td>101934757</td>\n",
       "      <td>https://img3.idealista.com/blur/WEB_LISTING/0/...</td>\n",
       "      <td>14</td>\n",
       "      <td>bj</td>\n",
       "      <td>590.0</td>\n",
       "      <td>flat</td>\n",
       "      <td>rent</td>\n",
       "      <td>66.0</td>\n",
       "      <td>True</td>\n",
       "      <td>...</td>\n",
       "      <td>False</td>\n",
       "      <td>False</td>\n",
       "      <td>False</td>\n",
       "      <td>False</td>\n",
       "      <td>NaN</td>\n",
       "      <td>NaN</td>\n",
       "      <td>NaN</td>\n",
       "      <td>NaN</td>\n",
       "      <td>NaN</td>\n",
       "      <td>NaN</td>\n",
       "    </tr>\n",
       "    <tr>\n",
       "      <th>1</th>\n",
       "      <td>1</td>\n",
       "      <td>103193364</td>\n",
       "      <td>https://img3.idealista.com/blur/WEB_LISTING/0/...</td>\n",
       "      <td>12</td>\n",
       "      <td>1</td>\n",
       "      <td>800.0</td>\n",
       "      <td>flat</td>\n",
       "      <td>rent</td>\n",
       "      <td>85.0</td>\n",
       "      <td>True</td>\n",
       "      <td>...</td>\n",
       "      <td>False</td>\n",
       "      <td>False</td>\n",
       "      <td>False</td>\n",
       "      <td>False</td>\n",
       "      <td>NER 187</td>\n",
       "      <td>Gran Plaza - Marqués de Pickman - Ciudad Jardín</td>\n",
       "      <td>NaN</td>\n",
       "      <td>NaN</td>\n",
       "      <td>NaN</td>\n",
       "      <td>NaN</td>\n",
       "    </tr>\n",
       "    <tr>\n",
       "      <th>2</th>\n",
       "      <td>2</td>\n",
       "      <td>103192622</td>\n",
       "      <td>https://img3.idealista.com/blur/WEB_LISTING/0/...</td>\n",
       "      <td>1</td>\n",
       "      <td>bj</td>\n",
       "      <td>650.0</td>\n",
       "      <td>flat</td>\n",
       "      <td>rent</td>\n",
       "      <td>41.0</td>\n",
       "      <td>True</td>\n",
       "      <td>...</td>\n",
       "      <td>False</td>\n",
       "      <td>False</td>\n",
       "      <td>False</td>\n",
       "      <td>False</td>\n",
       "      <td>NaN</td>\n",
       "      <td>Arroyo - Santa Justa</td>\n",
       "      <td>NaN</td>\n",
       "      <td>NaN</td>\n",
       "      <td>NaN</td>\n",
       "      <td>NaN</td>\n",
       "    </tr>\n",
       "    <tr>\n",
       "      <th>3</th>\n",
       "      <td>3</td>\n",
       "      <td>99228868</td>\n",
       "      <td>https://img3.idealista.com/blur/WEB_LISTING/0/...</td>\n",
       "      <td>20</td>\n",
       "      <td>bj</td>\n",
       "      <td>650.0</td>\n",
       "      <td>flat</td>\n",
       "      <td>rent</td>\n",
       "      <td>40.0</td>\n",
       "      <td>True</td>\n",
       "      <td>...</td>\n",
       "      <td>False</td>\n",
       "      <td>False</td>\n",
       "      <td>False</td>\n",
       "      <td>False</td>\n",
       "      <td>CUIDAD JARDIN</td>\n",
       "      <td>Gran Plaza - Marqués de Pickman - Ciudad Jardín</td>\n",
       "      <td>[{'name': 'apartamentoType', 'text': 'Apartame...</td>\n",
       "      <td>NaN</td>\n",
       "      <td>NaN</td>\n",
       "      <td>NaN</td>\n",
       "    </tr>\n",
       "    <tr>\n",
       "      <th>4</th>\n",
       "      <td>4</td>\n",
       "      <td>103188131</td>\n",
       "      <td>https://img3.idealista.com/blur/WEB_LISTING/0/...</td>\n",
       "      <td>18</td>\n",
       "      <td>NaN</td>\n",
       "      <td>1000.0</td>\n",
       "      <td>chalet</td>\n",
       "      <td>rent</td>\n",
       "      <td>256.0</td>\n",
       "      <td>NaN</td>\n",
       "      <td>...</td>\n",
       "      <td>False</td>\n",
       "      <td>False</td>\n",
       "      <td>False</td>\n",
       "      <td>False</td>\n",
       "      <td>LCSE27440</td>\n",
       "      <td>NaN</td>\n",
       "      <td>NaN</td>\n",
       "      <td>NaN</td>\n",
       "      <td>NaN</td>\n",
       "      <td>NaN</td>\n",
       "    </tr>\n",
       "  </tbody>\n",
       "</table>\n",
       "<p>5 rows × 42 columns</p>\n",
       "</div>"
      ],
      "text/plain": [
       "   Unnamed: 0  propertyCode  \\\n",
       "0           0     101934757   \n",
       "1           1     103193364   \n",
       "2           2     103192622   \n",
       "3           3      99228868   \n",
       "4           4     103188131   \n",
       "\n",
       "                                           thumbnail  numPhotos floor   price  \\\n",
       "0  https://img3.idealista.com/blur/WEB_LISTING/0/...         14    bj   590.0   \n",
       "1  https://img3.idealista.com/blur/WEB_LISTING/0/...         12     1   800.0   \n",
       "2  https://img3.idealista.com/blur/WEB_LISTING/0/...          1    bj   650.0   \n",
       "3  https://img3.idealista.com/blur/WEB_LISTING/0/...         20    bj   650.0   \n",
       "4  https://img3.idealista.com/blur/WEB_LISTING/0/...         18   NaN  1000.0   \n",
       "\n",
       "  propertyType operation   size exterior  ...  has360  hasStaging  \\\n",
       "0         flat      rent   66.0     True  ...   False       False   \n",
       "1         flat      rent   85.0     True  ...   False       False   \n",
       "2         flat      rent   41.0     True  ...   False       False   \n",
       "3         flat      rent   40.0     True  ...   False       False   \n",
       "4       chalet      rent  256.0      NaN  ...   False       False   \n",
       "\n",
       "  topNewDevelopment superTopHighlight externalReference  \\\n",
       "0             False             False               NaN   \n",
       "1             False             False           NER 187   \n",
       "2             False             False               NaN   \n",
       "3             False             False     CUIDAD JARDIN   \n",
       "4             False             False         LCSE27440   \n",
       "\n",
       "                                      neighborhood  \\\n",
       "0                                              NaN   \n",
       "1  Gran Plaza - Marqués de Pickman - Ciudad Jardín   \n",
       "2                             Arroyo - Santa Justa   \n",
       "3  Gran Plaza - Marqués de Pickman - Ciudad Jardín   \n",
       "4                                              NaN   \n",
       "\n",
       "                                              labels  parkingSpace  highlight  \\\n",
       "0                                                NaN           NaN        NaN   \n",
       "1                                                NaN           NaN        NaN   \n",
       "2                                                NaN           NaN        NaN   \n",
       "3  [{'name': 'apartamentoType', 'text': 'Apartame...           NaN        NaN   \n",
       "4                                                NaN           NaN        NaN   \n",
       "\n",
       "   newDevelopmentFinished  \n",
       "0                     NaN  \n",
       "1                     NaN  \n",
       "2                     NaN  \n",
       "3                     NaN  \n",
       "4                     NaN  \n",
       "\n",
       "[5 rows x 42 columns]"
      ]
     },
     "execution_count": 8,
     "metadata": {},
     "output_type": "execute_result"
    }
   ],
   "source": [
    "df.head()"
   ]
  },
  {
   "cell_type": "code",
   "execution_count": 6,
   "metadata": {},
   "outputs": [
    {
     "name": "stdout",
     "output_type": "stream",
     "text": [
      "<class 'pandas.core.frame.DataFrame'>\n",
      "RangeIndex: 1001 entries, 0 to 1000\n",
      "Data columns (total 42 columns):\n",
      " #   Column                  Non-Null Count  Dtype  \n",
      "---  ------                  --------------  -----  \n",
      " 0   Unnamed: 0              1001 non-null   int64  \n",
      " 1   propertyCode            1001 non-null   int64  \n",
      " 2   thumbnail               990 non-null    object \n",
      " 3   numPhotos               1001 non-null   int64  \n",
      " 4   floor                   847 non-null    object \n",
      " 5   price                   1001 non-null   float64\n",
      " 6   propertyType            1001 non-null   object \n",
      " 7   operation               1001 non-null   object \n",
      " 8   size                    1001 non-null   float64\n",
      " 9   exterior                839 non-null    object \n",
      " 10  rooms                   1001 non-null   int64  \n",
      " 11  bathrooms               1001 non-null   int64  \n",
      " 12  address                 1001 non-null   object \n",
      " 13  province                1001 non-null   object \n",
      " 14  municipality            1001 non-null   object \n",
      " 15  district                946 non-null    object \n",
      " 16  country                 1001 non-null   object \n",
      " 17  latitude                1001 non-null   float64\n",
      " 18  longitude               1001 non-null   float64\n",
      " 19  showAddress             1001 non-null   bool   \n",
      " 20  url                     1001 non-null   object \n",
      " 21  distance                1001 non-null   int64  \n",
      " 22  description             992 non-null    object \n",
      " 23  hasVideo                1001 non-null   bool   \n",
      " 24  status                  1001 non-null   object \n",
      " 25  newDevelopment          1001 non-null   bool   \n",
      " 26  hasLift                 857 non-null    object \n",
      " 27  priceByArea             1001 non-null   float64\n",
      " 28  detailedType            1001 non-null   object \n",
      " 29  suggestedTexts          1001 non-null   object \n",
      " 30  hasPlan                 1001 non-null   bool   \n",
      " 31  has3DTour               1001 non-null   bool   \n",
      " 32  has360                  1001 non-null   bool   \n",
      " 33  hasStaging              1001 non-null   bool   \n",
      " 34  topNewDevelopment       1001 non-null   bool   \n",
      " 35  superTopHighlight       1001 non-null   bool   \n",
      " 36  externalReference       712 non-null    object \n",
      " 37  neighborhood            782 non-null    object \n",
      " 38  labels                  137 non-null    object \n",
      " 39  parkingSpace            374 non-null    object \n",
      " 40  highlight               41 non-null     object \n",
      " 41  newDevelopmentFinished  19 non-null     object \n",
      "dtypes: bool(9), float64(5), int64(6), object(22)\n",
      "memory usage: 267.0+ KB\n"
     ]
    }
   ],
   "source": [
    "df.info()"
   ]
  }
 ],
 "metadata": {
  "kernelspec": {
   "display_name": "Python 3.7.4 64-bit",
   "language": "python",
   "name": "python3"
  },
  "language_info": {
   "codemirror_mode": {
    "name": "ipython",
    "version": 3
   },
   "file_extension": ".py",
   "mimetype": "text/x-python",
   "name": "python",
   "nbconvert_exporter": "python",
   "pygments_lexer": "ipython3",
   "version": "3.11.5"
  },
  "orig_nbformat": 4,
  "vscode": {
   "interpreter": {
    "hash": "90139cb9a825bf3d63f6f6704e828dbd1ff7edbd4d0c6e906a71235d6efc74af"
   }
  }
 },
 "nbformat": 4,
 "nbformat_minor": 2
}
