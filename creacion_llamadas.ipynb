{
 "cells": [
  {
   "cell_type": "markdown",
   "metadata": {},
   "source": [
    "### Creación de llamadas"
   ]
  },
  {
   "cell_type": "code",
   "execution_count": 3,
   "metadata": {},
   "outputs": [],
   "source": [
    "import pandas as pd\n",
    "import seaborn as sns\n",
    "import matplotlib.pyplot as plt\n",
    "import numpy as np\n",
    "import pickle"
   ]
  },
  {
   "cell_type": "code",
   "execution_count": 4,
   "metadata": {},
   "outputs": [],
   "source": [
    "'''para cargar el modelo entrenado'''\n",
    "with open('modelos_entrenados/modelo_final_RFR.pkl', 'rb') as file:\n",
    "    modelo_RFR = pickle.load(file)"
   ]
  },
  {
   "cell_type": "markdown",
   "metadata": {},
   "source": [
    "Ejemplo de llamada al modelo"
   ]
  },
  {
   "cell_type": "code",
   "execution_count": 47,
   "metadata": {},
   "outputs": [],
   "source": [
    "dicc_miraflores = {'size':60,'codigo_distrito':48,'parking':0,'codigo_tipo':2 ,'total_rooms':3}\n",
    "dicc_centro = {'size':150,'codigo_distrito':69,'parking':1,'codigo_tipo':7 ,'total_rooms':6}"
   ]
  },
  {
   "cell_type": "code",
   "execution_count": 48,
   "metadata": {},
   "outputs": [],
   "source": [
    "centro = pd.DataFrame(data=dicc_centro, index=[0])\n",
    "miraflores = pd.DataFrame(data=dicc_miraflores, index=[0])"
   ]
  },
  {
   "cell_type": "code",
   "execution_count": 49,
   "metadata": {},
   "outputs": [
    {
     "name": "stdout",
     "output_type": "stream",
     "text": [
      "[1827.11239885]\n"
     ]
    }
   ],
   "source": [
    "prediction_centro = modelo_RFR.predict(centro)\n",
    "print(prediction_centro)"
   ]
  },
  {
   "cell_type": "code",
   "execution_count": 50,
   "metadata": {},
   "outputs": [
    {
     "data": {
      "text/plain": [
       "array([723.90801152])"
      ]
     },
     "execution_count": 50,
     "metadata": {},
     "output_type": "execute_result"
    }
   ],
   "source": [
    "prediction_miraflores = modelo_RFR.predict(miraflores)\n",
    "prediction_miraflores"
   ]
  },
  {
   "cell_type": "code",
   "execution_count": 9,
   "metadata": {},
   "outputs": [],
   "source": [
    "df = pd.read_csv('data/df.csv')\n",
    "df_num = pd.read_csv('data/df_num.csv')"
   ]
  },
  {
   "cell_type": "code",
   "execution_count": 10,
   "metadata": {},
   "outputs": [
    {
     "data": {
      "text/html": [
       "<div>\n",
       "<style scoped>\n",
       "    .dataframe tbody tr th:only-of-type {\n",
       "        vertical-align: middle;\n",
       "    }\n",
       "\n",
       "    .dataframe tbody tr th {\n",
       "        vertical-align: top;\n",
       "    }\n",
       "\n",
       "    .dataframe thead th {\n",
       "        text-align: right;\n",
       "    }\n",
       "</style>\n",
       "<table border=\"1\" class=\"dataframe\">\n",
       "  <thead>\n",
       "    <tr style=\"text-align: right;\">\n",
       "      <th></th>\n",
       "      <th>propertyCode</th>\n",
       "      <th>price</th>\n",
       "      <th>propertyType</th>\n",
       "      <th>size</th>\n",
       "      <th>rooms</th>\n",
       "      <th>bathrooms</th>\n",
       "      <th>latitude</th>\n",
       "      <th>longitude</th>\n",
       "      <th>description</th>\n",
       "      <th>status</th>\n",
       "      <th>priceByArea</th>\n",
       "      <th>parking</th>\n",
       "      <th>codigo_distrito</th>\n",
       "      <th>poblacion / distrito</th>\n",
       "      <th>precio_area / distrito</th>\n",
       "      <th>codigo_tipo</th>\n",
       "    </tr>\n",
       "  </thead>\n",
       "  <tbody>\n",
       "    <tr>\n",
       "      <th>0</th>\n",
       "      <td>101934757</td>\n",
       "      <td>590.0</td>\n",
       "      <td>flat</td>\n",
       "      <td>66.0</td>\n",
       "      <td>2</td>\n",
       "      <td>1</td>\n",
       "      <td>37.284635</td>\n",
       "      <td>-5.925679</td>\n",
       "      <td>Hola soy Maite, ALQUILAMOS apartamento céntric...</td>\n",
       "      <td>good</td>\n",
       "      <td>9.0</td>\n",
       "      <td>0</td>\n",
       "      <td>25</td>\n",
       "      <td>Dos Hermanas / El Arenal - La Pólvora</td>\n",
       "      <td>8.200000</td>\n",
       "      <td>2</td>\n",
       "    </tr>\n",
       "    <tr>\n",
       "      <th>1</th>\n",
       "      <td>103193364</td>\n",
       "      <td>800.0</td>\n",
       "      <td>flat</td>\n",
       "      <td>85.0</td>\n",
       "      <td>3</td>\n",
       "      <td>1</td>\n",
       "      <td>37.388130</td>\n",
       "      <td>-5.963097</td>\n",
       "      <td>Espléndido piso de 85 m² situado en Nervión. J...</td>\n",
       "      <td>good</td>\n",
       "      <td>9.0</td>\n",
       "      <td>0</td>\n",
       "      <td>70</td>\n",
       "      <td>Sevilla / Nervión</td>\n",
       "      <td>13.694444</td>\n",
       "      <td>2</td>\n",
       "    </tr>\n",
       "    <tr>\n",
       "      <th>2</th>\n",
       "      <td>103192622</td>\n",
       "      <td>650.0</td>\n",
       "      <td>flat</td>\n",
       "      <td>41.0</td>\n",
       "      <td>1</td>\n",
       "      <td>1</td>\n",
       "      <td>37.396532</td>\n",
       "      <td>-5.976552</td>\n",
       "      <td>¡No pierdas la oportunidad de vivir en este ac...</td>\n",
       "      <td>good</td>\n",
       "      <td>16.0</td>\n",
       "      <td>0</td>\n",
       "      <td>48</td>\n",
       "      <td>Sevilla / Santa Justa - Miraflores - Cruz Roja</td>\n",
       "      <td>9.947368</td>\n",
       "      <td>2</td>\n",
       "    </tr>\n",
       "    <tr>\n",
       "      <th>3</th>\n",
       "      <td>99228868</td>\n",
       "      <td>650.0</td>\n",
       "      <td>flat</td>\n",
       "      <td>40.0</td>\n",
       "      <td>1</td>\n",
       "      <td>1</td>\n",
       "      <td>37.377477</td>\n",
       "      <td>-5.961966</td>\n",
       "      <td>Estupendo apartamento totalmente reformado y a...</td>\n",
       "      <td>good</td>\n",
       "      <td>16.0</td>\n",
       "      <td>0</td>\n",
       "      <td>70</td>\n",
       "      <td>Sevilla / Nervión</td>\n",
       "      <td>13.694444</td>\n",
       "      <td>2</td>\n",
       "    </tr>\n",
       "    <tr>\n",
       "      <th>4</th>\n",
       "      <td>103188131</td>\n",
       "      <td>1000.0</td>\n",
       "      <td>chalet</td>\n",
       "      <td>256.0</td>\n",
       "      <td>3</td>\n",
       "      <td>3</td>\n",
       "      <td>37.349163</td>\n",
       "      <td>-5.935799</td>\n",
       "      <td>Casa de alquiler en Condequinto, de dos planta...</td>\n",
       "      <td>good</td>\n",
       "      <td>4.0</td>\n",
       "      <td>0</td>\n",
       "      <td>17</td>\n",
       "      <td>Montequinto / Condequinto</td>\n",
       "      <td>7.666667</td>\n",
       "      <td>7</td>\n",
       "    </tr>\n",
       "    <tr>\n",
       "      <th>...</th>\n",
       "      <td>...</td>\n",
       "      <td>...</td>\n",
       "      <td>...</td>\n",
       "      <td>...</td>\n",
       "      <td>...</td>\n",
       "      <td>...</td>\n",
       "      <td>...</td>\n",
       "      <td>...</td>\n",
       "      <td>...</td>\n",
       "      <td>...</td>\n",
       "      <td>...</td>\n",
       "      <td>...</td>\n",
       "      <td>...</td>\n",
       "      <td>...</td>\n",
       "      <td>...</td>\n",
       "      <td>...</td>\n",
       "    </tr>\n",
       "    <tr>\n",
       "      <th>986</th>\n",
       "      <td>102103782</td>\n",
       "      <td>500.0</td>\n",
       "      <td>flat</td>\n",
       "      <td>84.0</td>\n",
       "      <td>3</td>\n",
       "      <td>2</td>\n",
       "      <td>37.175795</td>\n",
       "      <td>-5.786509</td>\n",
       "      <td>1. Piso → Piso en Utrera zona El Tinte, 84 m. ...</td>\n",
       "      <td>good</td>\n",
       "      <td>6.0</td>\n",
       "      <td>1</td>\n",
       "      <td>6</td>\n",
       "      <td>Utrera / Utrera</td>\n",
       "      <td>6.217391</td>\n",
       "      <td>2</td>\n",
       "    </tr>\n",
       "    <tr>\n",
       "      <th>987</th>\n",
       "      <td>101870980</td>\n",
       "      <td>600.0</td>\n",
       "      <td>flat</td>\n",
       "      <td>83.0</td>\n",
       "      <td>3</td>\n",
       "      <td>1</td>\n",
       "      <td>37.179141</td>\n",
       "      <td>-5.775776</td>\n",
       "      <td>NaN</td>\n",
       "      <td>good</td>\n",
       "      <td>7.0</td>\n",
       "      <td>0</td>\n",
       "      <td>6</td>\n",
       "      <td>Utrera / Utrera</td>\n",
       "      <td>6.217391</td>\n",
       "      <td>2</td>\n",
       "    </tr>\n",
       "    <tr>\n",
       "      <th>988</th>\n",
       "      <td>101336250</td>\n",
       "      <td>600.0</td>\n",
       "      <td>chalet</td>\n",
       "      <td>130.0</td>\n",
       "      <td>3</td>\n",
       "      <td>1</td>\n",
       "      <td>37.184088</td>\n",
       "      <td>-5.772710</td>\n",
       "      <td>NaN</td>\n",
       "      <td>good</td>\n",
       "      <td>5.0</td>\n",
       "      <td>0</td>\n",
       "      <td>6</td>\n",
       "      <td>Utrera / Utrera</td>\n",
       "      <td>6.217391</td>\n",
       "      <td>3</td>\n",
       "    </tr>\n",
       "    <tr>\n",
       "      <th>989</th>\n",
       "      <td>100825758</td>\n",
       "      <td>800.0</td>\n",
       "      <td>flat</td>\n",
       "      <td>102.0</td>\n",
       "      <td>3</td>\n",
       "      <td>2</td>\n",
       "      <td>37.184312</td>\n",
       "      <td>-5.773903</td>\n",
       "      <td>Piso en Utrera zona La Huerta, 102 m. de super...</td>\n",
       "      <td>good</td>\n",
       "      <td>8.0</td>\n",
       "      <td>0</td>\n",
       "      <td>6</td>\n",
       "      <td>Utrera / Utrera</td>\n",
       "      <td>6.217391</td>\n",
       "      <td>2</td>\n",
       "    </tr>\n",
       "    <tr>\n",
       "      <th>990</th>\n",
       "      <td>87202734</td>\n",
       "      <td>1300.0</td>\n",
       "      <td>chalet</td>\n",
       "      <td>225.0</td>\n",
       "      <td>2</td>\n",
       "      <td>1</td>\n",
       "      <td>37.178457</td>\n",
       "      <td>-5.778954</td>\n",
       "      <td>Casa en Utrera zona Centro, 200.00 m. de super...</td>\n",
       "      <td>good</td>\n",
       "      <td>6.0</td>\n",
       "      <td>0</td>\n",
       "      <td>6</td>\n",
       "      <td>Utrera / Utrera</td>\n",
       "      <td>6.217391</td>\n",
       "      <td>7</td>\n",
       "    </tr>\n",
       "  </tbody>\n",
       "</table>\n",
       "<p>991 rows × 16 columns</p>\n",
       "</div>"
      ],
      "text/plain": [
       "     propertyCode   price propertyType   size  rooms  bathrooms   latitude  \\\n",
       "0       101934757   590.0         flat   66.0      2          1  37.284635   \n",
       "1       103193364   800.0         flat   85.0      3          1  37.388130   \n",
       "2       103192622   650.0         flat   41.0      1          1  37.396532   \n",
       "3        99228868   650.0         flat   40.0      1          1  37.377477   \n",
       "4       103188131  1000.0       chalet  256.0      3          3  37.349163   \n",
       "..            ...     ...          ...    ...    ...        ...        ...   \n",
       "986     102103782   500.0         flat   84.0      3          2  37.175795   \n",
       "987     101870980   600.0         flat   83.0      3          1  37.179141   \n",
       "988     101336250   600.0       chalet  130.0      3          1  37.184088   \n",
       "989     100825758   800.0         flat  102.0      3          2  37.184312   \n",
       "990      87202734  1300.0       chalet  225.0      2          1  37.178457   \n",
       "\n",
       "     longitude                                        description status  \\\n",
       "0    -5.925679  Hola soy Maite, ALQUILAMOS apartamento céntric...   good   \n",
       "1    -5.963097  Espléndido piso de 85 m² situado en Nervión. J...   good   \n",
       "2    -5.976552  ¡No pierdas la oportunidad de vivir en este ac...   good   \n",
       "3    -5.961966  Estupendo apartamento totalmente reformado y a...   good   \n",
       "4    -5.935799  Casa de alquiler en Condequinto, de dos planta...   good   \n",
       "..         ...                                                ...    ...   \n",
       "986  -5.786509  1. Piso → Piso en Utrera zona El Tinte, 84 m. ...   good   \n",
       "987  -5.775776                                                NaN   good   \n",
       "988  -5.772710                                                NaN   good   \n",
       "989  -5.773903  Piso en Utrera zona La Huerta, 102 m. de super...   good   \n",
       "990  -5.778954  Casa en Utrera zona Centro, 200.00 m. de super...   good   \n",
       "\n",
       "     priceByArea  parking  codigo_distrito  \\\n",
       "0            9.0        0               25   \n",
       "1            9.0        0               70   \n",
       "2           16.0        0               48   \n",
       "3           16.0        0               70   \n",
       "4            4.0        0               17   \n",
       "..           ...      ...              ...   \n",
       "986          6.0        1                6   \n",
       "987          7.0        0                6   \n",
       "988          5.0        0                6   \n",
       "989          8.0        0                6   \n",
       "990          6.0        0                6   \n",
       "\n",
       "                               poblacion / distrito  precio_area / distrito  \\\n",
       "0             Dos Hermanas / El Arenal - La Pólvora                8.200000   \n",
       "1                                 Sevilla / Nervión               13.694444   \n",
       "2    Sevilla / Santa Justa - Miraflores - Cruz Roja                9.947368   \n",
       "3                                 Sevilla / Nervión               13.694444   \n",
       "4                         Montequinto / Condequinto                7.666667   \n",
       "..                                              ...                     ...   \n",
       "986                                 Utrera / Utrera                6.217391   \n",
       "987                                 Utrera / Utrera                6.217391   \n",
       "988                                 Utrera / Utrera                6.217391   \n",
       "989                                 Utrera / Utrera                6.217391   \n",
       "990                                 Utrera / Utrera                6.217391   \n",
       "\n",
       "     codigo_tipo  \n",
       "0              2  \n",
       "1              2  \n",
       "2              2  \n",
       "3              2  \n",
       "4              7  \n",
       "..           ...  \n",
       "986            2  \n",
       "987            2  \n",
       "988            3  \n",
       "989            2  \n",
       "990            7  \n",
       "\n",
       "[991 rows x 16 columns]"
      ]
     },
     "execution_count": 10,
     "metadata": {},
     "output_type": "execute_result"
    }
   ],
   "source": [
    "df"
   ]
  },
  {
   "cell_type": "markdown",
   "metadata": {},
   "source": [
    "Crear función para hacer llamada"
   ]
  },
  {
   "cell_type": "code",
   "execution_count": 55,
   "metadata": {},
   "outputs": [],
   "source": [
    "def calcular_alquiler(tamaño,poblacion_distrito,parking,tipo_vivienda,habitaciones,baños):\n",
    "    df = pd.read_csv('data/df.csv')\n",
    "    dicc_tipo = {'Estudio' : 1,'Piso' : 2,'Adosado' : 3,'Duplex' : 4,'Ático' : 5,'Casa pareada' : 6,'Chalet independiente' : 7}\n",
    "    dicc = {}\n",
    "    \n",
    "    dicc['size'] = tamaño\n",
    "\n",
    "    for i, pob_dis in enumerate(df['poblacion / distrito']):\n",
    "        if pob_dis == poblacion_distrito:\n",
    "            for n, codigo_dist in enumerate(df['codigo_distrito']):\n",
    "                if n == i:\n",
    "                    dicc['codigo_distrito'] = codigo_dist\n",
    "                    break\n",
    "    if parking == 'No':            \n",
    "        dicc['parking'] = 0\n",
    "    else:\n",
    "        dicc['parking'] = 1\n",
    "\n",
    "    for tipo,codigo in dicc_tipo.items():\n",
    "        if tipo == tipo_vivienda:\n",
    "            dicc['codigo_tipo'] = codigo\n",
    "\n",
    "    \n",
    "    dicc['total_rooms'] = habitaciones + baños\n",
    "    \n",
    "    \n",
    "    return(dicc)\n",
    "            \n",
    "    \n",
    "    \n",
    "    "
   ]
  },
  {
   "cell_type": "code",
   "execution_count": 34,
   "metadata": {},
   "outputs": [
    {
     "data": {
      "text/plain": [
       "{'size': 46,\n",
       " 'parking': 0,\n",
       " 'total_rooms': 3,\n",
       " 'codigo_tipo': 6,\n",
       " 'codigo_distrito': 70}"
      ]
     },
     "execution_count": 34,
     "metadata": {},
     "output_type": "execute_result"
    }
   ],
   "source": [
    "calcular_alquiler(46,'Sevilla / Nervión',0,'Casa pareada',2,1)"
   ]
  },
  {
   "cell_type": "code",
   "execution_count": 56,
   "metadata": {},
   "outputs": [],
   "source": [
    "\n",
    "vivienda = pd.DataFrame([calcular_alquiler(60, 'Sevilla / Santa Justa - Miraflores - Cruz Roja', 0, 'Piso', 2, 1)], index=[0])"
   ]
  },
  {
   "cell_type": "code",
   "execution_count": 57,
   "metadata": {},
   "outputs": [
    {
     "data": {
      "text/html": [
       "<div>\n",
       "<style scoped>\n",
       "    .dataframe tbody tr th:only-of-type {\n",
       "        vertical-align: middle;\n",
       "    }\n",
       "\n",
       "    .dataframe tbody tr th {\n",
       "        vertical-align: top;\n",
       "    }\n",
       "\n",
       "    .dataframe thead th {\n",
       "        text-align: right;\n",
       "    }\n",
       "</style>\n",
       "<table border=\"1\" class=\"dataframe\">\n",
       "  <thead>\n",
       "    <tr style=\"text-align: right;\">\n",
       "      <th></th>\n",
       "      <th>size</th>\n",
       "      <th>codigo_distrito</th>\n",
       "      <th>parking</th>\n",
       "      <th>codigo_tipo</th>\n",
       "      <th>total_rooms</th>\n",
       "    </tr>\n",
       "  </thead>\n",
       "  <tbody>\n",
       "    <tr>\n",
       "      <th>0</th>\n",
       "      <td>60</td>\n",
       "      <td>48</td>\n",
       "      <td>0</td>\n",
       "      <td>2</td>\n",
       "      <td>3</td>\n",
       "    </tr>\n",
       "  </tbody>\n",
       "</table>\n",
       "</div>"
      ],
      "text/plain": [
       "   size  codigo_distrito  parking  codigo_tipo  total_rooms\n",
       "0    60               48        0            2            3"
      ]
     },
     "execution_count": 57,
     "metadata": {},
     "output_type": "execute_result"
    }
   ],
   "source": [
    "vivienda"
   ]
  },
  {
   "cell_type": "code",
   "execution_count": 61,
   "metadata": {},
   "outputs": [
    {
     "name": "stderr",
     "output_type": "stream",
     "text": [
      "C:\\Users\\Manolo\\AppData\\Local\\Temp\\ipykernel_15876\\3328818666.py:1: DeprecationWarning: Conversion of an array with ndim > 0 to a scalar is deprecated, and will error in future. Ensure you extract a single element from your array before performing this operation. (Deprecated NumPy 1.25.)\n",
      "  prediction = int(modelo_RFR.predict(vivienda))\n"
     ]
    },
    {
     "data": {
      "text/plain": [
       "723"
      ]
     },
     "execution_count": 61,
     "metadata": {},
     "output_type": "execute_result"
    }
   ],
   "source": [
    "prediction = int(modelo_RFR.predict(vivienda))\n",
    "prediction"
   ]
  }
 ],
 "metadata": {
  "kernelspec": {
   "display_name": "Python 3",
   "language": "python",
   "name": "python3"
  },
  "language_info": {
   "codemirror_mode": {
    "name": "ipython",
    "version": 3
   },
   "file_extension": ".py",
   "mimetype": "text/x-python",
   "name": "python",
   "nbconvert_exporter": "python",
   "pygments_lexer": "ipython3",
   "version": "3.11.5"
  }
 },
 "nbformat": 4,
 "nbformat_minor": 2
}
